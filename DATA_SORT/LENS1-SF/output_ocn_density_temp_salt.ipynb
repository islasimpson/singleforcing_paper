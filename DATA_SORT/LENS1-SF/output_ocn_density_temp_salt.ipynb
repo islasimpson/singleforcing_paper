{
 "cells": [
  {
   "cell_type": "code",
   "execution_count": 1,
   "id": "456a8612-7136-4b3b-9643-e765199bc891",
   "metadata": {},
   "outputs": [],
   "source": [
    "import xarray as xr\n",
    "import numpy as np\n",
    "import matplotlib.pyplot as plt\n",
    "import glob\n",
    "import sys\n",
    "import dask\n",
    "import pop_tools \n",
    "from functools import partial\n",
    "import matplotlib.pyplot as plt\n",
    "\n",
    "from CASutils import lensread_utils as lens\n",
    "\n",
    "pathout=\"/glade/scratch/islas/python/singleforcing/DATA_SORT/cesm1_sf/\"\n",
    "topdir=\"/glade/campaign/cesm/collections/cesmLE/CESM-CAM5-BGC-LE/ocn/proc/tseries/monthly/\"\n",
    "\n",
    "memstr = [ str(imem).zfill(3) for imem in np.arange(1,21,1)]"
   ]
  },
  {
   "cell_type": "code",
   "execution_count": 2,
   "id": "bedf11b0-5bfd-43b4-b734-64c00eb23b44",
   "metadata": {},
   "outputs": [
    {
     "name": "stderr",
     "output_type": "stream",
     "text": [
      "/glade/u/home/islas/miniconda3/envs/ecpaperenv/lib/python3.6/site-packages/distributed/node.py:155: UserWarning: Port 8787 is already in use.\n",
      "Perhaps you already have a cluster running?\n",
      "Hosting the HTTP server on port 44635 instead\n",
      "  http_address[\"port\"], self.http_server.port\n"
     ]
    }
   ],
   "source": [
    "from dask_jobqueue import PBSCluster\n",
    "from dask.distributed import Client\n",
    "\n",
    "cluster = PBSCluster(\n",
    "    cores = 1,\n",
    "    memory = '20GB',\n",
    "    processes = 1,\n",
    "    queue = 'casper',\n",
    "    local_directory = '$TMPDIR',\n",
    "    resource_spec = 'select=1:ncpus=1:mem=20GB',\n",
    "    project='P04010022',\n",
    "    walltime='02:00:00',\n",
    "    interface='ib0')\n",
    "\n",
    "# scale up\n",
    "cluster.scale(40)\n",
    "\n",
    "# change your urls to the dask dashboard so that you can see it\n",
    "dask.config.set({'distributed.dashboard.link':'https://jupyterhub.hpc.ucar.edu/stable/user/{USER}/proxy/{port}/status'})\n",
    "\n",
    "# Setup your client\n",
    "client = Client(cluster)"
   ]
  },
  {
   "cell_type": "code",
   "execution_count": 3,
   "id": "3c5647d5-6a3c-4827-ad07-290bb47ca0ed",
   "metadata": {},
   "outputs": [
    {
     "data": {
      "text/html": [
       "<table style=\"border: 2px solid white;\">\n",
       "<tr>\n",
       "<td style=\"vertical-align: top; border: 0px solid white\">\n",
       "<h3 style=\"text-align: left;\">Client</h3>\n",
       "<ul style=\"text-align: left; list-style: none; margin: 0; padding: 0;\">\n",
       "  <li><b>Scheduler: </b>tcp://10.12.206.54:38296</li>\n",
       "  <li><b>Dashboard: </b><a href='https://jupyterhub.hpc.ucar.edu/stable/user/islas/proxy/44635/status' target='_blank'>https://jupyterhub.hpc.ucar.edu/stable/user/islas/proxy/44635/status</a></li>\n",
       "</ul>\n",
       "</td>\n",
       "<td style=\"vertical-align: top; border: 0px solid white\">\n",
       "<h3 style=\"text-align: left;\">Cluster</h3>\n",
       "<ul style=\"text-align: left; list-style:none; margin: 0; padding: 0;\">\n",
       "  <li><b>Workers: </b>5</li>\n",
       "  <li><b>Cores: </b>5</li>\n",
       "  <li><b>Memory: </b>100.00 GB</li>\n",
       "</ul>\n",
       "</td>\n",
       "</tr>\n",
       "</table>"
      ],
      "text/plain": [
       "<Client: 'tcp://10.12.206.54:38296' processes=5 threads=5, memory=100.00 GB>"
      ]
     },
     "execution_count": 3,
     "metadata": {},
     "output_type": "execute_result"
    }
   ],
   "source": [
    "client"
   ]
  },
  {
   "cell_type": "code",
   "execution_count": 4,
   "id": "9d1d751a-868e-4271-9c71-af277cb6d206",
   "metadata": {},
   "outputs": [],
   "source": [
    "def fixtime(ds):\n",
    "    timebndavg = np.array(ds.time_bound,\n",
    "        dtype='datetime64[s]').view('i8').mean(axis=1).astype('datetime64[s]')\n",
    "    ds['time'] = timebndavg\n",
    "    return ds"
   ]
  },
  {
   "cell_type": "code",
   "execution_count": 5,
   "id": "8338e32d-8eaa-46c1-8a88-a7f63e35d211",
   "metadata": {},
   "outputs": [],
   "source": [
    "def vertintegrate(ds, dz):\n",
    "    ds = ds.isel(z_t=slice(0,20))\n",
    "    dz = dz.isel(z_t=slice(0,20))\n",
    "    dsz = (ds*dz).sum('z_t')/dz.sum('z_t')\n",
    "    return dsz"
   ]
  },
  {
   "cell_type": "code",
   "execution_count": 6,
   "id": "85272e4d-5a75-4253-b079-7410be23ffad",
   "metadata": {},
   "outputs": [],
   "source": [
    "def labseaavg(ds, tarea):\n",
    "    wgts = tarea\n",
    "    wgts = xr.where( (wgts.TLONG > 300) & (wgts.TLONG < 325), wgts, 0)\n",
    "    wgts = xr.where( (wgts.TLAT > 50) & (wgts.TLAT < 65), wgts, 0)\n",
    "    \n",
    "    ds_w = ds.weighted(wgts.fillna(0))\n",
    "    dsm = ds_w.mean((\"nlon\",\"nlat\"))\n",
    "    return dsm"
   ]
  },
  {
   "cell_type": "code",
   "execution_count": 7,
   "id": "fce38061-1d20-49f2-8421-b06b189be65e",
   "metadata": {},
   "outputs": [
    {
     "name": "stdout",
     "output_type": "stream",
     "text": [
      "0\n",
      "1\n",
      "2\n",
      "3\n",
      "4\n",
      "5\n",
      "6\n",
      "7\n",
      "8\n",
      "9\n",
      "10\n",
      "11\n",
      "12\n",
      "13\n",
      "14\n",
      "15\n",
      "16\n",
      "17\n",
      "18\n",
      "19\n"
     ]
    }
   ],
   "source": [
    "rho_all=[]\n",
    "salt_all=[]\n",
    "temp_all=[]\n",
    "\n",
    "filelist_salt = [sorted(glob.glob(topdir+\"/SALT/b.e11.B20TRLENS_RCP85.f09_g16.xaer.\"+imem+\"*.nc\")) for imem in memstr ]\n",
    "filelist_temp = [sorted(glob.glob(topdir+\"/TEMP/b.e11.B20TRLENS_RCP85.f09_g16.xaer.\"+imem+\"*.nc\")) for imem in memstr ]\n",
    "\n",
    "\n",
    "for imem in np.arange(0,len(filelist_salt),1):\n",
    "    print(imem)\n",
    "        \n",
    "    dat = xr.open_mfdataset(filelist_salt[imem], concat_dim='time', parallel=True, chunks={\"time\":20, \"z_t\":60, \"nlat\":120, \"nlon\":120})\n",
    "    dat = fixtime(dat)\n",
    "    dat = dat.sel(time=slice(\"1920-01\",\"2050-12\"))\n",
    "    salt = dat.SALT ; tarea = dat.TAREA ;dz = dat.dz\n",
    "    saltz = vertintegrate(salt, dz)\n",
    "    salt_lab = labseaavg(saltz, tarea)\n",
    "    \n",
    "    dat = xr.open_mfdataset(filelist_temp[imem], concat_dim='time', parallel=True, chunks={\"time\":20, \"z_t\":60, \"nlat\":120, \"nlon\":120})\n",
    "    dat = fixtime(dat)\n",
    "    dat = dat.sel(time=slice(\"1920-01\",\"2050-12\"))\n",
    "    temp = dat.TEMP ; tarea = dat.TAREA ;dz = dat.dz\n",
    "    tempz = vertintegrate(temp, dz)\n",
    "    temp_lab = labseaavg(tempz, tarea)\n",
    "    \n",
    "    ref_depth = xr.DataArray(np.zeros(np.shape(temp_lab)), dims=temp_lab.dims, coords=temp_lab.coords) + 101.5 # because I'm using top 203m\n",
    "    rho,drhods,drhodt = pop_tools.eos(salt=salt_lab, temp=temp_lab, return_coefs=True,depth=ref_depth)\n",
    "    \n",
    "    temp_anom = temp_lab - temp_lab.mean('time')\n",
    "    salt_anom = salt_lab - salt_lab.mean('time')\n",
    "    rho_anom = rho - rho.mean('time')\n",
    "    \n",
    "    rho_temp = drhodt*temp_anom\n",
    "    rho_salt = drhods*salt_anom/1000. # not sure why, but this is necessary\n",
    "    \n",
    "    rho_anom = rho_anom.rename('RHO').load()\n",
    "    rho_temp = rho_temp.rename('RHO_TEMP').load()\n",
    "    rho_salt = rho_salt.rename('RHO_SALT').load()\n",
    "    \n",
    "    rho_all.append(rho_anom)\n",
    "    salt_all.append(rho_salt)\n",
    "    temp_all.append(rho_temp)"
   ]
  },
  {
   "cell_type": "code",
   "execution_count": 8,
   "id": "1a7deb58-afdc-4e01-b17e-907ce8ae84e7",
   "metadata": {},
   "outputs": [],
   "source": [
    "rho_all = xr.concat(rho_all, dim='M')\n",
    "salt_all = xr.concat(salt_all, dim='M')\n",
    "temp_all = xr.concat(temp_all, dim='M')"
   ]
  },
  {
   "cell_type": "code",
   "execution_count": 9,
   "id": "441977a3-7419-4243-8284-edbd9d34f9a5",
   "metadata": {},
   "outputs": [],
   "source": [
    "rho_all.to_netcdf(pathout+'RHO_components_XAAER1.nc')\n",
    "salt_all.to_netcdf(pathout+'RHO_components_XAAER1.nc', mode='a')\n",
    "temp_all.to_netcdf(pathout+'RHO_components_XAAER1.nc', mode='a')"
   ]
  },
  {
   "cell_type": "code",
   "execution_count": 25,
   "id": "01b38167-73f7-4a2f-9501-605e0a4dccc1",
   "metadata": {},
   "outputs": [],
   "source": [
    "cluster.close()"
   ]
  },
  {
   "cell_type": "code",
   "execution_count": null,
   "id": "2c06759e-73dc-494a-96bf-8762c1db44a8",
   "metadata": {},
   "outputs": [],
   "source": []
  }
 ],
 "metadata": {
  "kernelspec": {
   "display_name": "Python [conda env:miniconda3-ecpaperenv]",
   "language": "python",
   "name": "conda-env-miniconda3-ecpaperenv-py"
  },
  "language_info": {
   "codemirror_mode": {
    "name": "ipython",
    "version": 3
   },
   "file_extension": ".py",
   "mimetype": "text/x-python",
   "name": "python",
   "nbconvert_exporter": "python",
   "pygments_lexer": "ipython3",
   "version": "3.6.11"
  }
 },
 "nbformat": 4,
 "nbformat_minor": 5
}
