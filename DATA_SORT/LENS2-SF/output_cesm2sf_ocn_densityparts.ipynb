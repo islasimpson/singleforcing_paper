{
 "cells": [
  {
   "cell_type": "code",
   "execution_count": 1,
   "id": "62a57c68-c610-4030-98eb-adf9908b2a80",
   "metadata": {},
   "outputs": [],
   "source": [
    "import xarray as xr\n",
    "import numpy as np\n",
    "import glob\n",
    "import sys\n",
    "import dask\n",
    "import pop_tools\n",
    "from functools import partial\n",
    "import matplotlib.pyplot as plt\n",
    "\n",
    "nmemsAAER = 15\n",
    "\n",
    "pathout=\"/glade/scratch/islas/python/singleforcing/DATA_SORT/cesm2_sf/\"\n",
    "\n",
    "topdir=\"/glade/campaign/cesm/collections/CESM2-SF/timeseries/\""
   ]
  },
  {
   "cell_type": "code",
   "execution_count": 2,
   "id": "1d2355e4-5a65-4226-8eb8-a9c851adcda3",
   "metadata": {},
   "outputs": [
    {
     "name": "stderr",
     "output_type": "stream",
     "text": [
      "/glade/u/home/islas/miniconda3/envs/ecpaperenv/lib/python3.6/site-packages/distributed/node.py:155: UserWarning: Port 8787 is already in use.\n",
      "Perhaps you already have a cluster running?\n",
      "Hosting the HTTP server on port 34951 instead\n",
      "  http_address[\"port\"], self.http_server.port\n"
     ]
    }
   ],
   "source": [
    "from dask_jobqueue import PBSCluster\n",
    "from dask.distributed import Client\n",
    "\n",
    "cluster = PBSCluster(\n",
    "    cores = 1,\n",
    "    memory = '20GB',\n",
    "    processes = 1,\n",
    "    queue = 'casper',\n",
    "    local_directory = '$TMPDIR',\n",
    "    resource_spec = 'select=1:ncpus=1:mem=20GB',\n",
    "    project='P04010022',\n",
    "    walltime='02:00:00',\n",
    "    interface='ib0')\n",
    "\n",
    "# scale up\n",
    "cluster.scale(25)\n",
    "\n",
    "# change your urls to the dask dashboard so that you can see it\n",
    "dask.config.set({'distributed.dashboard.link':'https://jupyterhub.hpc.ucar.edu/stable/user/{USER}/proxy/{port}/status'})\n",
    "\n",
    "# Setup your client\n",
    "client = Client(cluster)"
   ]
  },
  {
   "cell_type": "code",
   "execution_count": 114,
   "id": "21c8cc1c-e36f-4c4c-a215-86d26ebe659b",
   "metadata": {},
   "outputs": [],
   "source": [
    "#cluster.close()"
   ]
  },
  {
   "cell_type": "code",
   "execution_count": 3,
   "id": "4d3d98ba-c397-4c8f-867f-62ade42fe9ee",
   "metadata": {},
   "outputs": [
    {
     "data": {
      "text/html": [
       "<table style=\"border: 2px solid white;\">\n",
       "<tr>\n",
       "<td style=\"vertical-align: top; border: 0px solid white\">\n",
       "<h3 style=\"text-align: left;\">Client</h3>\n",
       "<ul style=\"text-align: left; list-style: none; margin: 0; padding: 0;\">\n",
       "  <li><b>Scheduler: </b>tcp://10.12.206.54:41214</li>\n",
       "  <li><b>Dashboard: </b><a href='https://jupyterhub.hpc.ucar.edu/stable/user/islas/proxy/34951/status' target='_blank'>https://jupyterhub.hpc.ucar.edu/stable/user/islas/proxy/34951/status</a></li>\n",
       "</ul>\n",
       "</td>\n",
       "<td style=\"vertical-align: top; border: 0px solid white\">\n",
       "<h3 style=\"text-align: left;\">Cluster</h3>\n",
       "<ul style=\"text-align: left; list-style:none; margin: 0; padding: 0;\">\n",
       "  <li><b>Workers: </b>12</li>\n",
       "  <li><b>Cores: </b>12</li>\n",
       "  <li><b>Memory: </b>240.00 GB</li>\n",
       "</ul>\n",
       "</td>\n",
       "</tr>\n",
       "</table>"
      ],
      "text/plain": [
       "<Client: 'tcp://10.12.206.54:41214' processes=12 threads=12, memory=240.00 GB>"
      ]
     },
     "execution_count": 3,
     "metadata": {},
     "output_type": "execute_result"
    }
   ],
   "source": [
    "client"
   ]
  },
  {
   "cell_type": "code",
   "execution_count": 4,
   "id": "a63ab5a5-19d9-4b06-940d-0ea3230c9e30",
   "metadata": {},
   "outputs": [],
   "source": [
    "def fixtime(ds):\n",
    "    timebndavg = np.array(ds.time_bound,\n",
    "        dtype='datetime64[s]').view('i8').mean(axis=1).astype('datetime64[s]')\n",
    "    ds['time'] = timebndavg\n",
    "    return ds"
   ]
  },
  {
   "cell_type": "code",
   "execution_count": 5,
   "id": "b3237bfd-ba09-4198-8abc-d7943c270e1a",
   "metadata": {},
   "outputs": [],
   "source": [
    "def vertintegrate(ds, dz):\n",
    "    ds = ds.isel(z_t=slice(0,20))\n",
    "    dz = dz.isel(z_t=slice(0,20))\n",
    "    dsz = (ds*dz).sum('z_t')/dz.sum('z_t')\n",
    "    return dsz"
   ]
  },
  {
   "cell_type": "code",
   "execution_count": 6,
   "id": "6a777f68-4a9c-45f4-87fc-e3236fa55827",
   "metadata": {},
   "outputs": [],
   "source": [
    "def labseaavg(ds, tarea):\n",
    "    wgts = tarea\n",
    "    wgts = xr.where( (wgts.TLONG > 300) & (wgts.TLONG < 325), wgts, 0)\n",
    "    wgts = xr.where( (wgts.TLAT > 50) & (wgts.TLAT < 65), wgts, 0)\n",
    "    \n",
    "    ds_w = ds.weighted(wgts.fillna(0))\n",
    "    dsm = ds_w.mean((\"nlon\",\"nlat\"))\n",
    "    return dsm"
   ]
  },
  {
   "cell_type": "code",
   "execution_count": 8,
   "id": "d6c603da-5d26-4f12-a271-76ffd28f749f",
   "metadata": {},
   "outputs": [
    {
     "name": "stdout",
     "output_type": "stream",
     "text": [
      "0\n",
      "1\n",
      "2\n",
      "3\n",
      "4\n",
      "5\n",
      "6\n",
      "7\n",
      "8\n",
      "9\n",
      "10\n",
      "11\n",
      "12\n",
      "13\n",
      "14\n"
     ]
    }
   ],
   "source": [
    "memstr = [ str(i).zfill(3) for i in np.arange(1,nmemsAAER+1,1)]\n",
    "\n",
    "rho_all=[]\n",
    "salt_all=[]\n",
    "temp_all=[]\n",
    "\n",
    "filelist_salt = [sorted(glob.glob(topdir+\"*-SF-AAER.\"+imem+\"/ocn/proc/tseries/month_1/*.\"+\n",
    "                 \"SALT.*.nc\"))+sorted(glob.glob(topdir+\"*-SF-AAER-SSP370.\"+imem+\"/ocn/proc/tseries/month_1/*.SALT.*.nc\")) for imem in memstr ]\n",
    "filelist_temp = [sorted(glob.glob(topdir+\"*-SF-AAER.\"+imem+\"/ocn/proc/tseries/month_1/*.\"+\n",
    "                 \"TEMP.*.nc\"))+sorted(glob.glob(topdir+\"*-SF-AAER-SSP370.\"+imem+\"/ocn/proc/tseries/month_1/*.TEMP.*.nc\")) for imem in memstr ]\n",
    "\n",
    "for imem in np.arange(0,len(filelist_salt),1):\n",
    "    print(imem)\n",
    "        \n",
    "    dat = xr.open_mfdataset(filelist_salt[imem], concat_dim='time', parallel=True, chunks={\"time\":20, \"z_t\":60, \"nlat\":120, \"nlon\":120})\n",
    "    dat = fixtime(dat)\n",
    "    salt = dat.SALT ; tarea = dat.TAREA ;dz = dat.dz\n",
    "    saltz = vertintegrate(salt, dz)\n",
    "    salt_lab = labseaavg(saltz, tarea)\n",
    "    \n",
    "    dat = xr.open_mfdataset(filelist_temp[imem], concat_dim='time', parallel=True, chunks={\"time\":20, \"z_t\":60, \"nlat\":120, \"nlon\":120})\n",
    "    dat = fixtime(dat)\n",
    "    temp = dat.TEMP ; tarea = dat.TAREA ;dz = dat.dz\n",
    "    tempz = vertintegrate(temp, dz)\n",
    "    temp_lab = labseaavg(tempz, tarea)\n",
    "    \n",
    "    ref_depth = xr.DataArray(np.zeros(np.shape(temp_lab)), dims=temp_lab.dims, coords=temp_lab.coords) + 101.5 # because I'm using top 203m\n",
    "    rho,drhods,drhodt = pop_tools.eos(salt=salt_lab, temp=temp_lab, return_coefs=True,depth=ref_depth)\n",
    "    \n",
    "    temp_anom = temp_lab - temp_lab.mean('time')\n",
    "    salt_anom = salt_lab - salt_lab.mean('time')\n",
    "    rho_anom = rho - rho.mean('time')\n",
    "    \n",
    "    rho_temp = drhodt*temp_anom\n",
    "    rho_salt = drhods*salt_anom/1000. # not sure why, but this is necessary\n",
    "    \n",
    "    rho_anom = rho_anom.rename('RHO').load()\n",
    "    rho_temp = rho_temp.rename('RHO_TEMP').load()\n",
    "    rho_salt = rho_salt.rename('RHO_SALT').load()\n",
    "    \n",
    "    rho_all.append(rho_anom)\n",
    "    salt_all.append(rho_salt)\n",
    "    temp_all.append(rho_temp)\n",
    "    \n",
    "rho_all = xr.concat(rho_all, dim='M')\n",
    "salt_all = xr.concat(salt_all, dim='M')\n",
    "temp_all = xr.concat(temp_all, dim='M')"
   ]
  },
  {
   "cell_type": "code",
   "execution_count": 9,
   "id": "e172446f-491a-46e3-834d-e7d4bafe5a28",
   "metadata": {},
   "outputs": [],
   "source": [
    "rho_all.to_netcdf(pathout+'RHO_components_AAER2.nc')\n",
    "salt_all.to_netcdf(pathout+'RHO_components_AAER2.nc', mode='a')\n",
    "temp_all.to_netcdf(pathout+'RHO_components_AAER2.nc', mode='a')"
   ]
  },
  {
   "cell_type": "code",
   "execution_count": 10,
   "id": "1c1c5ad4-442b-459f-8b2b-699772a105c1",
   "metadata": {},
   "outputs": [],
   "source": [
    "cluster.close()"
   ]
  },
  {
   "cell_type": "code",
   "execution_count": null,
   "id": "115d97c6-157c-4880-b39b-c7f4db199044",
   "metadata": {},
   "outputs": [],
   "source": []
  },
  {
   "cell_type": "code",
   "execution_count": 98,
   "id": "b9e4a527-d470-4dfe-8d1e-503ea698e4b7",
   "metadata": {},
   "outputs": [
    {
     "data": {
      "text/plain": [
       "[<matplotlib.lines.Line2D at 0x2abb683b4a58>]"
      ]
     },
     "execution_count": 98,
     "metadata": {},
     "output_type": "execute_result"
    },
    {
     "data": {
      "image/png": "[encoded data removed]",
      "text/plain": [
       "<Figure size 432x288 with 1 Axes>"
      ]
     },
     "metadata": {
      "needs_background": "light"
     },
     "output_type": "display_data"
    }
   ],
   "source": [
    "plt.plot(np.arange(0,100,1), rho_anom.isel(time=slice(0,100)), color='black')\n",
    "plt.plot(np.arange(0,100,1), rho_temp.isel(time=slice(0,100)), color='red')\n",
    "plt.plot(np.arange(0,100,1), rho_salt.isel(time=slice(0,100))/1000., color='green')\n",
    "plt.plot(np.arange(0,100,1), rho_temp.isel(time=slice(0,100)) + rho_salt.isel(time=slice(0,100))/1000., color='blue', linestyle='dashed')"
   ]
  },
  {
   "cell_type": "code",
   "execution_count": 100,
   "id": "01c769f3-9232-4e44-bdc7-27b3ecf73116",
   "metadata": {},
   "outputs": [],
   "source": [
    "rho_all=[]\n",
    "rho_all.append(rho_anom)"
   ]
  },
  {
   "cell_type": "code",
   "execution_count": 101,
   "id": "3984b6e7-29ba-46c9-bf71-36dcd74997dc",
   "metadata": {},
   "outputs": [
    {
     "name": "stdout",
     "output_type": "stream",
     "text": [
      "[<xarray.DataArray 'RHO' (time: 2412)>\n",
      "array([-0.00867306, -0.00595344, -0.00497481, ...,  0.00307833,\n",
      "        0.00233626,  0.00279714])\n",
      "Coordinates:\n",
      "  * time     (time) datetime64[ns] 1850-01-16T13:00:00 ... 2050-12-16T12:00:00]\n"
     ]
    }
   ],
   "source": [
    "print(rho_all)"
   ]
  },
  {
   "cell_type": "code",
   "execution_count": null,
   "id": "013c03d4-4ea2-4b72-a5f4-0868550ec771",
   "metadata": {},
   "outputs": [],
   "source": [
    "\n",
    "\n",
    "dat = xr.open_mfdataset(filelist[0], concat_dim='time', preprocess=partial(preprocessor), parallel=True, \n",
    "                       chunks={\"time\":300, \"z_t\":20, \"nlat\":120, \"nlon\":120})"
   ]
  },
  {
   "cell_type": "code",
   "execution_count": 54,
   "id": "3deb07a6-ef62-413f-adc6-7ddd97fb567b",
   "metadata": {},
   "outputs": [],
   "source": [
    "dat = xr.open_mfdataset(filelist[0], concat_dim='time', parallel=True, chunks={\"time\":300, \"z_t\":20, \"nlat\":120, \"nlon\":120})"
   ]
  },
  {
   "cell_type": "code",
   "execution_count": 58,
   "id": "518940ef-79ee-473f-98db-51284a2ed916",
   "metadata": {},
   "outputs": [
    {
     "name": "stdout",
     "output_type": "stream",
     "text": [
      "<xarray.Dataset>\n",
      "Dimensions:                 (d2: 2, lat_aux_grid: 395, moc_comp: 3, moc_z: 61, nlat: 384, nlon: 320, time: 2412, transport_comp: 5, transport_reg: 2, z_t: 60, z_t_150m: 15, z_w: 60, z_w_bot: 60, z_w_top: 60)\n",
      "Coordinates:\n",
      "  * z_t                     (z_t) float32 500.0 1.5e+03 ... 5.125e+05 5.375e+05\n",
      "  * z_t_150m                (z_t_150m) float32 500.0 1.5e+03 ... 1.45e+04\n",
      "  * z_w                     (z_w) float32 0.0 1e+03 2e+03 ... 5e+05 5.25e+05\n",
      "  * z_w_top                 (z_w_top) float32 0.0 1e+03 2e+03 ... 5e+05 5.25e+05\n",
      "  * z_w_bot                 (z_w_bot) float32 1e+03 2e+03 ... 5.25e+05 5.5e+05\n",
      "  * lat_aux_grid            (lat_aux_grid) float32 -79.49 -78.95 ... 89.47 90.0\n",
      "  * moc_z                   (moc_z) float32 0.0 1e+03 2e+03 ... 5.25e+05 5.5e+05\n",
      "    ULONG                   (nlat, nlon) float64 dask.array<chunksize=(120, 120), meta=np.ndarray>\n",
      "    ULAT                    (nlat, nlon) float64 dask.array<chunksize=(120, 120), meta=np.ndarray>\n",
      "    TLONG                   (nlat, nlon) float64 dask.array<chunksize=(120, 120), meta=np.ndarray>\n",
      "    TLAT                    (nlat, nlon) float64 dask.array<chunksize=(120, 120), meta=np.ndarray>\n",
      "  * time                    (time) datetime64[ns] 1850-01-16T13:00:00 ... 205...\n",
      "Dimensions without coordinates: d2, moc_comp, nlat, nlon, transport_comp, transport_reg\n",
      "Data variables: (12/55)\n",
      "    moc_components          (time, moc_comp) |S384 dask.array<chunksize=(600, 3), meta=np.ndarray>\n",
      "    transport_components    (time, transport_comp) |S384 dask.array<chunksize=(600, 5), meta=np.ndarray>\n",
      "    transport_regions       (time, transport_reg) |S384 dask.array<chunksize=(600, 2), meta=np.ndarray>\n",
      "    dz                      (time, z_t) float32 dask.array<chunksize=(600, 20), meta=np.ndarray>\n",
      "    dzw                     (time, z_w) float32 dask.array<chunksize=(600, 60), meta=np.ndarray>\n",
      "    KMT                     (time, nlat, nlon) float64 dask.array<chunksize=(600, 120, 120), meta=np.ndarray>\n",
      "    ...                      ...\n",
      "    salinity_factor         (time) float64 -0.00347 -0.00347 ... -0.00347\n",
      "    sflux_factor            (time) float64 0.1 0.1 0.1 0.1 ... 0.1 0.1 0.1 0.1\n",
      "    nsurface_t              (time) float64 8.61e+04 8.61e+04 ... 8.61e+04\n",
      "    nsurface_u              (time) float64 8.297e+04 8.297e+04 ... 8.297e+04\n",
      "    time_bound              (time, d2) object dask.array<chunksize=(300, 2), meta=np.ndarray>\n",
      "    SALT                    (time, z_t, nlat, nlon) float32 dask.array<chunksize=(300, 20, 120, 120), meta=np.ndarray>\n",
      "Attributes:\n",
      "    title:             b.e21.B1850cmip6.f09_g17.CESM2-SF-AAER.001\n",
      "    history:           none\n",
      "    Conventions:       CF-1.0; http://www.cgd.ucar.edu/cms/eaton/netcdf/CF-cu...\n",
      "    time_period_freq:  month_1\n",
      "    model_doi_url:     https://doi.org/10.5065/D67H1H0V\n",
      "    contents:          Diagnostic and Prognostic Variables\n",
      "    source:            CCSM POP2, the CCSM Ocean Component\n",
      "    revision:          $Id$\n",
      "    calendar:          All years have exactly  365 days.\n",
      "    start_time:        This dataset was created on 2021-02-09 at 18:15:17.7\n",
      "    cell_methods:      cell_methods = time: mean ==> the variable values are ...\n"
     ]
    }
   ],
   "source": [
    "print(dat)"
   ]
  },
  {
   "cell_type": "code",
   "execution_count": 55,
   "id": "6152148d-aa46-426b-bbf5-29c951a88d59",
   "metadata": {},
   "outputs": [],
   "source": [
    "test = preprocessor(dat)"
   ]
  },
  {
   "cell_type": "code",
   "execution_count": 56,
   "id": "e4f95fe3-3bdc-45ec-8dcd-e186c91fd91f",
   "metadata": {},
   "outputs": [
    {
     "name": "stdout",
     "output_type": "stream",
     "text": [
      "<xarray.DataArray (time: 2412, nlat: 384, nlon: 320)>\n",
      "dask.array<truediv, shape=(2412, 384, 320), dtype=float32, chunksize=(300, 120, 120), chunktype=numpy.ndarray>\n",
      "Coordinates:\n",
      "    ULONG    (nlat, nlon) float64 dask.array<chunksize=(120, 120), meta=np.ndarray>\n",
      "    ULAT     (nlat, nlon) float64 dask.array<chunksize=(120, 120), meta=np.ndarray>\n",
      "    TLONG    (nlat, nlon) float64 dask.array<chunksize=(120, 120), meta=np.ndarray>\n",
      "    TLAT     (nlat, nlon) float64 dask.array<chunksize=(120, 120), meta=np.ndarray>\n",
      "  * time     (time) datetime64[ns] 1850-01-16T13:00:00 ... 2050-12-16T12:00:00\n",
      "Dimensions without coordinates: nlat, nlon\n"
     ]
    }
   ],
   "source": [
    "print(test)"
   ]
  },
  {
   "cell_type": "code",
   "execution_count": 41,
   "id": "b6436f18-10bb-45d8-a008-199de290e409",
   "metadata": {},
   "outputs": [],
   "source": [
    "cluster.close()"
   ]
  },
  {
   "cell_type": "code",
   "execution_count": null,
   "id": "ac0d3e9f-0be7-40fb-95f4-65f9d17c45fe",
   "metadata": {},
   "outputs": [],
   "source": []
  }
 ],
 "metadata": {
  "kernelspec": {
   "display_name": "Python [conda env:miniconda3-ecpaperenv]",
   "language": "python",
   "name": "conda-env-miniconda3-ecpaperenv-py"
  },
  "language_info": {
   "codemirror_mode": {
    "name": "ipython",
    "version": 3
   },
   "file_extension": ".py",
   "mimetype": "text/x-python",
   "name": "python",
   "nbconvert_exporter": "python",
   "pygments_lexer": "ipython3",
   "version": "3.6.11"
  }
 },
 "nbformat": 4,
 "nbformat_minor": 5
}
