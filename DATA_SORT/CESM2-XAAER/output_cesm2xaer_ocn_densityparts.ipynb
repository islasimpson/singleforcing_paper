{
 "cells": [
  {
   "cell_type": "code",
   "execution_count": 1,
   "id": "62a57c68-c610-4030-98eb-adf9908b2a80",
   "metadata": {},
   "outputs": [],
   "source": [
    "import xarray as xr\n",
    "import numpy as np\n",
    "import glob\n",
    "import sys\n",
    "import dask\n",
    "import pop_tools\n",
    "from functools import partial\n",
    "import matplotlib.pyplot as plt\n",
    "\n",
    "nmemsxaer=3\n",
    "\n",
    "pathout=\"/glade/scratch/islas/python/singleforcing/DATA_SORT/cesm2_xaer/\"\n",
    "\n",
    "topdir=\"/glade/campaign/cesm/collections/CESM2-SF/timeseries/\""
   ]
  },
  {
   "cell_type": "code",
   "execution_count": 2,
   "id": "1d2355e4-5a65-4226-8eb8-a9c851adcda3",
   "metadata": {},
   "outputs": [
    {
     "name": "stderr",
     "output_type": "stream",
     "text": [
      "/glade/u/home/islas/miniconda3/envs/ecpaperenv/lib/python3.6/site-packages/distributed/node.py:155: UserWarning: Port 8787 is already in use.\n",
      "Perhaps you already have a cluster running?\n",
      "Hosting the HTTP server on port 46478 instead\n",
      "  http_address[\"port\"], self.http_server.port\n"
     ]
    }
   ],
   "source": [
    "from dask_jobqueue import PBSCluster\n",
    "from dask.distributed import Client\n",
    "\n",
    "cluster = PBSCluster(\n",
    "    cores = 1,\n",
    "    memory = '20GB',\n",
    "    processes = 1,\n",
    "    queue = 'casper',\n",
    "    local_directory = '$TMPDIR',\n",
    "    resource_spec = 'select=1:ncpus=1:mem=20GB',\n",
    "    project='P04010022',\n",
    "    walltime='02:00:00',\n",
    "    interface='ib0')\n",
    "\n",
    "# scale up\n",
    "cluster.scale(25)\n",
    "\n",
    "# change your urls to the dask dashboard so that you can see it\n",
    "dask.config.set({'distributed.dashboard.link':'https://jupyterhub.hpc.ucar.edu/stable/user/{USER}/proxy/{port}/status'})\n",
    "\n",
    "# Setup your client\n",
    "client = Client(cluster)"
   ]
  },
  {
   "cell_type": "code",
   "execution_count": 3,
   "id": "21c8cc1c-e36f-4c4c-a215-86d26ebe659b",
   "metadata": {},
   "outputs": [],
   "source": [
    "#cluster.close()"
   ]
  },
  {
   "cell_type": "code",
   "execution_count": 4,
   "id": "4d3d98ba-c397-4c8f-867f-62ade42fe9ee",
   "metadata": {},
   "outputs": [
    {
     "data": {
      "text/html": [
       "<table style=\"border: 2px solid white;\">\n",
       "<tr>\n",
       "<td style=\"vertical-align: top; border: 0px solid white\">\n",
       "<h3 style=\"text-align: left;\">Client</h3>\n",
       "<ul style=\"text-align: left; list-style: none; margin: 0; padding: 0;\">\n",
       "  <li><b>Scheduler: </b>tcp://10.12.206.54:36424</li>\n",
       "  <li><b>Dashboard: </b><a href='https://jupyterhub.hpc.ucar.edu/stable/user/islas/proxy/46478/status' target='_blank'>https://jupyterhub.hpc.ucar.edu/stable/user/islas/proxy/46478/status</a></li>\n",
       "</ul>\n",
       "</td>\n",
       "<td style=\"vertical-align: top; border: 0px solid white\">\n",
       "<h3 style=\"text-align: left;\">Cluster</h3>\n",
       "<ul style=\"text-align: left; list-style:none; margin: 0; padding: 0;\">\n",
       "  <li><b>Workers: </b>0</li>\n",
       "  <li><b>Cores: </b>0</li>\n",
       "  <li><b>Memory: </b>0 B</li>\n",
       "</ul>\n",
       "</td>\n",
       "</tr>\n",
       "</table>"
      ],
      "text/plain": [
       "<Client: 'tcp://10.12.206.54:36424' processes=0 threads=0, memory=0 B>"
      ]
     },
     "execution_count": 4,
     "metadata": {},
     "output_type": "execute_result"
    }
   ],
   "source": [
    "client"
   ]
  },
  {
   "cell_type": "code",
   "execution_count": 5,
   "id": "a63ab5a5-19d9-4b06-940d-0ea3230c9e30",
   "metadata": {},
   "outputs": [],
   "source": [
    "def fixtime(ds):\n",
    "    timebndavg = np.array(ds.time_bound,\n",
    "        dtype='datetime64[s]').view('i8').mean(axis=1).astype('datetime64[s]')\n",
    "    ds['time'] = timebndavg\n",
    "    return ds"
   ]
  },
  {
   "cell_type": "code",
   "execution_count": 6,
   "id": "b3237bfd-ba09-4198-8abc-d7943c270e1a",
   "metadata": {},
   "outputs": [],
   "source": [
    "def vertintegrate(ds, dz):\n",
    "    dz = dz.isel(z_t=slice(0,20))\n",
    "    ds = ds.isel(z_t=slice(0,20))\n",
    "    dsz = (ds*dz).sum('z_t')/dz.sum('z_t')\n",
    "    return dsz"
   ]
  },
  {
   "cell_type": "code",
   "execution_count": 7,
   "id": "6a777f68-4a9c-45f4-87fc-e3236fa55827",
   "metadata": {},
   "outputs": [],
   "source": [
    "def labseaavg(ds, tarea):\n",
    "    wgts = tarea\n",
    "    wgts = xr.where( (wgts.TLONG > 300) & (wgts.TLONG < 325), wgts, 0)\n",
    "    wgts = xr.where( (wgts.TLAT > 50) & (wgts.TLAT < 65), wgts, 0)\n",
    "    \n",
    "    ds_w = ds.weighted(wgts.fillna(0))\n",
    "    dsm = ds_w.mean((\"nlon\",\"nlat\"))\n",
    "    return dsm"
   ]
  },
  {
   "cell_type": "code",
   "execution_count": 8,
   "id": "d6c603da-5d26-4f12-a271-76ffd28f749f",
   "metadata": {},
   "outputs": [
    {
     "name": "stdout",
     "output_type": "stream",
     "text": [
      "0\n",
      "1\n",
      "2\n"
     ]
    }
   ],
   "source": [
    "memstr = [ str(i).zfill(3) for i in np.arange(1,nmemsxaer+1,1)]\n",
    "\n",
    "rho_all=[]\n",
    "salt_all=[]\n",
    "temp_all=[]\n",
    "\n",
    "filelist_salt = [sorted(glob.glob(topdir+\"b.e21.BHISTcmip6.f09_g17.CESM2-SF-xAER.\"+imem+\"/ocn/proc/tseries/month_1/*.\"+\n",
    "                 \"SALT.*.nc\"))+sorted(glob.glob(topdir+\"b.e21.BSSP370cmip6.f09_g17.CESM2-SF-xAER.\"+imem+\n",
    "                                                \"/ocn/proc/tseries/month_1/*.SALT.*.nc\")) for imem in memstr ]\n",
    "filelist_temp =  [sorted(glob.glob(topdir+\"b.e21.BHISTcmip6.f09_g17.CESM2-SF-xAER.\"+imem+\"/ocn/proc/tseries/month_1/*.\"+\n",
    "                 \"TEMP.*.nc\"))+sorted(glob.glob(topdir+\"b.e21.BSSP370cmip6.f09_g17.CESM2-SF-xAER.\"+imem+\n",
    "                                                \"/ocn/proc/tseries/month_1/*.TEMP.*.nc\")) for imem in memstr ]\n",
    "\n",
    "for imem in np.arange(0,len(filelist_salt),1):\n",
    "    print(imem)\n",
    "        \n",
    "    dat = xr.open_mfdataset(filelist_salt[imem], concat_dim='time', parallel=True, chunks={\"time\":20, \"z_t\":60, \"nlat\":120, \"nlon\":120})\n",
    "    dat = fixtime(dat)\n",
    "    salt = dat.SALT ; tarea = dat.TAREA ;dz = dat.dz\n",
    "    saltz = vertintegrate(salt, dz)\n",
    "    salt_lab = labseaavg(saltz, tarea)\n",
    "    \n",
    "    dat = xr.open_mfdataset(filelist_temp[imem], concat_dim='time', parallel=True, chunks={\"time\":20, \"z_t\":60, \"nlat\":120, \"nlon\":120})\n",
    "    dat = fixtime(dat)\n",
    "    temp = dat.TEMP ; tarea = dat.TAREA ;dz = dat.dz\n",
    "    tempz = vertintegrate(temp, dz)\n",
    "    temp_lab = labseaavg(tempz, tarea)\n",
    "    \n",
    "    ref_depth = xr.DataArray(np.zeros(np.shape(temp_lab)), dims=temp_lab.dims, coords=temp_lab.coords) + 101.5 # because I'm using top 203m\n",
    "    rho,drhods,drhodt = pop_tools.eos(salt=salt_lab, temp=temp_lab, return_coefs=True,depth=ref_depth)\n",
    "    \n",
    "    temp_anom = temp_lab - temp_lab.mean('time')\n",
    "    salt_anom = salt_lab - salt_lab.mean('time')\n",
    "    rho_anom = rho - rho.mean('time')\n",
    "    \n",
    "    rho_temp = drhodt*temp_anom\n",
    "    rho_salt = drhods*salt_anom/1000. # not sure why, but this is necessary\n",
    "    \n",
    "    rho_anom = rho_anom.rename('RHO').load()\n",
    "    rho_temp = rho_temp.rename('RHO_TEMP').load()\n",
    "    rho_salt = rho_salt.rename('RHO_SALT').load()\n",
    "    \n",
    "    rho_all.append(rho_anom)\n",
    "    salt_all.append(rho_salt)\n",
    "    temp_all.append(rho_temp)\n",
    "    \n",
    "rho_all = xr.concat(rho_all, dim='M')\n",
    "salt_all = xr.concat(salt_all, dim='M')\n",
    "temp_all = xr.concat(temp_all, dim='M')"
   ]
  },
  {
   "cell_type": "code",
   "execution_count": 9,
   "id": "e172446f-491a-46e3-834d-e7d4bafe5a28",
   "metadata": {},
   "outputs": [],
   "source": [
    "rho_all.to_netcdf(pathout+'RHO_components_xAER2.nc')\n",
    "salt_all.to_netcdf(pathout+'RHO_components_xAER2.nc', mode='a')\n",
    "temp_all.to_netcdf(pathout+'RHO_components_xAER2.nc', mode='a')"
   ]
  },
  {
   "cell_type": "code",
   "execution_count": 10,
   "id": "b6436f18-10bb-45d8-a008-199de290e409",
   "metadata": {},
   "outputs": [],
   "source": [
    "cluster.close()"
   ]
  },
  {
   "cell_type": "code",
   "execution_count": null,
   "id": "ac0d3e9f-0be7-40fb-95f4-65f9d17c45fe",
   "metadata": {},
   "outputs": [],
   "source": []
  }
 ],
 "metadata": {
  "kernelspec": {
   "display_name": "Python [conda env:miniconda3-ecpaperenv]",
   "language": "python",
   "name": "conda-env-miniconda3-ecpaperenv-py"
  },
  "language_info": {
   "codemirror_mode": {
    "name": "ipython",
    "version": 3
   },
   "file_extension": ".py",
   "mimetype": "text/x-python",
   "name": "python",
   "nbconvert_exporter": "python",
   "pygments_lexer": "ipython3",
   "version": "3.6.11"
  }
 },
 "nbformat": 4,
 "nbformat_minor": 5
}
