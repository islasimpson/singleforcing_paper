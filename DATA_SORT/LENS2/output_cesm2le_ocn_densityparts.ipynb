{
 "cells": [
  {
   "cell_type": "code",
   "execution_count": 2,
   "id": "fbbbec34-5ae7-4b4a-b9bc-bd75889129ac",
   "metadata": {},
   "outputs": [],
   "source": [
    "import xarray as xr\n",
    "import numpy as np\n",
    "import matplotlib.pyplot as plt\n",
    "import glob\n",
    "import sys\n",
    "import dask\n",
    "import pop_tools \n",
    "from functools import partial\n",
    "import matplotlib.pyplot as plt\n",
    "\n",
    "from CASutils import lensread_utils as lens\n",
    "\n",
    "pathout=\"/glade/scratch/islas/python/singleforcing/DATA_SORT/cesm2_le/\"\n",
    "topdir=\"/glade/campaign/cgd/cesm/CESM2-LE/\"\n",
    "\n",
    "memstr = lens.lens2memnamegen_second50(50)"
   ]
  },
  {
   "cell_type": "code",
   "execution_count": 3,
   "id": "6339daa5-c7d9-4c15-8c70-c6a7bebc0478",
   "metadata": {},
   "outputs": [],
   "source": [
    "from dask_jobqueue import PBSCluster\n",
    "from dask.distributed import Client\n",
    "\n",
    "cluster = PBSCluster(\n",
    "    cores = 1,\n",
    "    memory = '20GB',\n",
    "    processes = 1,\n",
    "    queue = 'casper',\n",
    "    local_directory = '$TMPDIR',\n",
    "    resource_spec = 'select=1:ncpus=1:mem=20GB',\n",
    "    project='P04010022',\n",
    "    walltime='06:00:00',\n",
    "    interface='ib0')\n",
    "\n",
    "# scale up\n",
    "cluster.scale(40)\n",
    "\n",
    "# change your urls to the dask dashboard so that you can see it\n",
    "dask.config.set({'distributed.dashboard.link':'https://jupyterhub.hpc.ucar.edu/stable/user/{USER}/proxy/{port}/status'})\n",
    "\n",
    "# Setup your client\n",
    "client = Client(cluster)"
   ]
  },
  {
   "cell_type": "code",
   "execution_count": 5,
   "id": "10a76066-9b9c-468c-a28d-6633329a568a",
   "metadata": {},
   "outputs": [
    {
     "data": {
      "text/html": [
       "<table style=\"border: 2px solid white;\">\n",
       "<tr>\n",
       "<td style=\"vertical-align: top; border: 0px solid white\">\n",
       "<h3 style=\"text-align: left;\">Client</h3>\n",
       "<ul style=\"text-align: left; list-style: none; margin: 0; padding: 0;\">\n",
       "  <li><b>Scheduler: </b>tcp://10.12.206.54:34132</li>\n",
       "  <li><b>Dashboard: </b><a href='https://jupyterhub.hpc.ucar.edu/stable/user/islas/proxy/8787/status' target='_blank'>https://jupyterhub.hpc.ucar.edu/stable/user/islas/proxy/8787/status</a></li>\n",
       "</ul>\n",
       "</td>\n",
       "<td style=\"vertical-align: top; border: 0px solid white\">\n",
       "<h3 style=\"text-align: left;\">Cluster</h3>\n",
       "<ul style=\"text-align: left; list-style:none; margin: 0; padding: 0;\">\n",
       "  <li><b>Workers: </b>40</li>\n",
       "  <li><b>Cores: </b>40</li>\n",
       "  <li><b>Memory: </b>800.00 GB</li>\n",
       "</ul>\n",
       "</td>\n",
       "</tr>\n",
       "</table>"
      ],
      "text/plain": [
       "<Client: 'tcp://10.12.206.54:34132' processes=40 threads=40, memory=800.00 GB>"
      ]
     },
     "execution_count": 5,
     "metadata": {},
     "output_type": "execute_result"
    }
   ],
   "source": [
    "client"
   ]
  },
  {
   "cell_type": "code",
   "execution_count": 6,
   "id": "b9d1ce5c-894d-4500-a8fc-9742e03b6b8d",
   "metadata": {},
   "outputs": [],
   "source": [
    "def fixtime(ds):\n",
    "    timebndavg = np.array(ds.time_bound,\n",
    "        dtype='datetime64[s]').view('i8').mean(axis=1).astype('datetime64[s]')\n",
    "    ds['time'] = timebndavg\n",
    "    return ds"
   ]
  },
  {
   "cell_type": "code",
   "execution_count": 7,
   "id": "e45fbb78-73db-4322-b7b9-cbb397cf7a0b",
   "metadata": {},
   "outputs": [],
   "source": [
    "def vertintegrate(ds, dz):\n",
    "    ds = ds.isel(z_t=slice(0,20))\n",
    "    dz = dz.isel(z_t=slice(0,20))\n",
    "    dsz = (ds*dz).sum('z_t')/dz.sum('z_t')\n",
    "    return dsz"
   ]
  },
  {
   "cell_type": "code",
   "execution_count": 8,
   "id": "636de8fe-5a4d-49ef-87a6-9cf80a51a225",
   "metadata": {},
   "outputs": [],
   "source": [
    "def labseaavg(ds, tarea):\n",
    "    wgts = tarea\n",
    "    wgts = xr.where( (wgts.TLONG > 300) & (wgts.TLONG < 325), wgts, 0)\n",
    "    wgts = xr.where( (wgts.TLAT > 50) & (wgts.TLAT < 65), wgts, 0)\n",
    "    \n",
    "    ds_w = ds.weighted(wgts.fillna(0))\n",
    "    dsm = ds_w.mean((\"nlon\",\"nlat\"))\n",
    "    return dsm"
   ]
  },
  {
   "cell_type": "code",
   "execution_count": 9,
   "id": "b5066bc7-0122-4c72-914f-e7c3f690b03f",
   "metadata": {},
   "outputs": [
    {
     "name": "stdout",
     "output_type": "stream",
     "text": [
      "0\n",
      "1\n",
      "2\n",
      "3\n",
      "4\n",
      "5\n",
      "6\n",
      "7\n",
      "8\n",
      "9\n",
      "10\n",
      "11\n",
      "12\n",
      "13\n",
      "14\n",
      "15\n",
      "16\n",
      "17\n",
      "18\n",
      "19\n",
      "20\n",
      "21\n",
      "22\n",
      "23\n",
      "24\n",
      "25\n",
      "26\n",
      "27\n",
      "28\n",
      "29\n",
      "30\n",
      "31\n",
      "32\n",
      "33\n",
      "34\n",
      "35\n",
      "36\n",
      "37\n",
      "38\n",
      "39\n",
      "40\n",
      "41\n",
      "42\n",
      "43\n",
      "44\n",
      "45\n",
      "46\n",
      "47\n",
      "48\n",
      "49\n"
     ]
    }
   ],
   "source": [
    "rho_all=[]\n",
    "salt_all=[]\n",
    "temp_all=[]\n",
    "\n",
    "filelist_salt = [sorted(glob.glob(topdir+\"/ocn/proc/tseries/month_1/SALT/*\"+imem+\"*.nc\")) for imem in memstr ]\n",
    "filelist_temp = [sorted(glob.glob(topdir+\"/ocn/proc/tseries/month_1/TEMP/*\"+imem+\"*.nc\")) for imem in memstr ]\n",
    "filelist_rho = [sorted(glob.glob(topdir+\"/ocn/proc/tseries/month_1/PD/*\"+imem+\"*.nc\")) for imem in memstr ]\n",
    "\n",
    "for imem in np.arange(0,len(filelist_salt),1):\n",
    "    print(imem)\n",
    "        \n",
    "    dat = xr.open_mfdataset(filelist_salt[imem], concat_dim='time', parallel=True, chunks={\"time\":20, \"z_t\":60, \"nlat\":120, \"nlon\":120})\n",
    "    dat = fixtime(dat)\n",
    "    dat = dat.sel(time=slice(\"1920-01\",\"2050-12\"))\n",
    "    salt = dat.SALT ; tarea = dat.TAREA ;dz = dat.dz\n",
    "    saltz = vertintegrate(salt, dz)\n",
    "    salt_lab = labseaavg(saltz, tarea)\n",
    "    \n",
    "    dat = xr.open_mfdataset(filelist_temp[imem], concat_dim='time', parallel=True, chunks={\"time\":20, \"z_t\":60, \"nlat\":120, \"nlon\":120})\n",
    "    dat = fixtime(dat)\n",
    "    dat = dat.sel(time=slice(\"1920-01\",\"2050-12\"))\n",
    "    temp = dat.TEMP ; tarea = dat.TAREA ;dz = dat.dz\n",
    "    tempz = vertintegrate(temp, dz)\n",
    "    temp_lab = labseaavg(tempz, tarea)\n",
    "    \n",
    "    dat = xr.open_mfdataset(filelist_rho[imem], concat_dim='time', parallel=True, chunks={\"time\":20, \"z_t\":60, \"nlat\":120, \"nlon\":120})\n",
    "    dat = fixtime(dat)\n",
    "    dat = dat.sel(time=slice(\"1920-01\",\"2050-12\"))\n",
    "    rho = dat.PD ; tarea = dat.TAREA ;dz = dat.dz\n",
    "    rhoz = vertintegrate(rho, dz)\n",
    "    rho_lab = labseaavg(rhoz, tarea)\n",
    "    \n",
    "    ref_depth = xr.DataArray(np.zeros(np.shape(temp_lab)), dims=temp_lab.dims, coords=temp_lab.coords) + 101.5 # because I'm using top 203m\n",
    "    rho,drhods,drhodt = pop_tools.eos(salt=salt_lab, temp=temp_lab, return_coefs=True,depth=ref_depth)\n",
    "    \n",
    "    temp_anom = temp_lab - temp_lab.mean('time')\n",
    "    salt_anom = salt_lab - salt_lab.mean('time')\n",
    "    rho_anom = rho - rho.mean('time')\n",
    "    \n",
    "    rho_temp = drhodt*temp_anom\n",
    "    rho_salt = drhods*salt_anom/1000. # not sure why, but this is necessary\n",
    "    \n",
    "    rho_anom = rho_anom.rename('RHO').load()\n",
    "    rho_temp = rho_temp.rename('RHO_TEMP').load()\n",
    "    rho_salt = rho_salt.rename('RHO_SALT').load()\n",
    "    \n",
    "    rho_all.append(rho_anom)\n",
    "    salt_all.append(rho_salt)\n",
    "    temp_all.append(rho_temp)\n",
    "    \n",
    "rho_all = xr.concat(rho_all, dim='M')\n",
    "salt_all = xr.concat(salt_all, dim='M')\n",
    "temp_all = xr.concat(temp_all, dim='M')"
   ]
  },
  {
   "cell_type": "code",
   "execution_count": null,
   "id": "33aa82f7-c122-477d-b276-5ae199a34445",
   "metadata": {},
   "outputs": [],
   "source": [
    "rho_all.to_netcdf(pathout+'RHO_components_LENS2.nc')\n",
    "salt_all.to_netcdf(pathout+'RHO_components_LENS2.nc', mode='a')\n",
    "temp_all.to_netcdf(pathout+'RHO_components_LENS2.nc', mode='a')"
   ]
  },
  {
   "cell_type": "code",
   "execution_count": null,
   "id": "fb626990-6114-46da-8a70-2a6be6b8ab4e",
   "metadata": {},
   "outputs": [],
   "source": [
    "cluster.close()\n"
   ]
  },
  {
   "cell_type": "code",
   "execution_count": null,
   "id": "a722b3f7-4223-4435-86f9-e4e8ae90c6d9",
   "metadata": {},
   "outputs": [],
   "source": []
  }
 ],
 "metadata": {
  "kernelspec": {
   "display_name": "Python [conda env:miniconda3-ecpaperenv]",
   "language": "python",
   "name": "conda-env-miniconda3-ecpaperenv-py"
  },
  "language_info": {
   "codemirror_mode": {
    "name": "ipython",
    "version": 3
   },
   "file_extension": ".py",
   "mimetype": "text/x-python",
   "name": "python",
   "nbconvert_exporter": "python",
   "pygments_lexer": "ipython3",
   "version": "3.6.11"
  }
 },
 "nbformat": 4,
 "nbformat_minor": 5
}
