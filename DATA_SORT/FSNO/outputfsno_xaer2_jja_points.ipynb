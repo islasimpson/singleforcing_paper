{
 "cells": [
  {
   "cell_type": "code",
   "execution_count": 6,
   "id": "1866975c-aef5-4ad3-bc72-7073285808af",
   "metadata": {},
   "outputs": [],
   "source": [
    "import xarray as xr\n",
    "import numpy as np\n",
    "import matplotlib.pyplot as plt\n",
    "\n",
    "import glob\n",
    "import sys\n",
    "import dask\n",
    "\n",
    "from CASutils import lensread_utils as lens\n",
    "from CASutils import readdata_utils as read\n",
    "from math import nan"
   ]
  },
  {
   "cell_type": "code",
   "execution_count": 7,
   "id": "c4b65939-1aee-4520-a6ed-f4f5c988c8f9",
   "metadata": {},
   "outputs": [],
   "source": [
    "topdir=\"/glade/campaign/cesm/collections/CESM2-SF/timeseries/\""
   ]
  },
  {
   "cell_type": "code",
   "execution_count": 8,
   "id": "dbafec1e-5553-4a27-b0dd-ac84ff66315c",
   "metadata": {},
   "outputs": [],
   "source": [
    "landfrac = xr.open_dataset('LANDFRAC_LENS2.nc')\n",
    "landfrac = landfrac.landfrac"
   ]
  },
  {
   "cell_type": "code",
   "execution_count": 9,
   "id": "85d29681-107e-428f-a8a4-69c84ecef9aa",
   "metadata": {},
   "outputs": [],
   "source": [
    "landfrac = xr.where(landfrac > 0.5, 1, nan)"
   ]
  },
  {
   "cell_type": "code",
   "execution_count": 10,
   "id": "04265c7d-a3be-43ab-a776-d6f0c8cebf30",
   "metadata": {},
   "outputs": [],
   "source": [
    "memstr = [ str(imem).zfill(3) for imem in np.arange(1,4,1) ]"
   ]
  },
  {
   "cell_type": "code",
   "execution_count": 11,
   "id": "63250dba-70b9-41bf-b349-7374af72b3f7",
   "metadata": {},
   "outputs": [
    {
     "name": "stderr",
     "output_type": "stream",
     "text": [
      "/glade/u/home/islas/miniconda3/envs/ecpaperenv/lib/python3.6/site-packages/distributed/node.py:155: UserWarning: Port 8787 is already in use.\n",
      "Perhaps you already have a cluster running?\n",
      "Hosting the HTTP server on port 46463 instead\n",
      "  http_address[\"port\"], self.http_server.port\n"
     ]
    }
   ],
   "source": [
    "import dask\n",
    "from dask_jobqueue import PBSCluster\n",
    "from dask.distributed import Client\n",
    "\n",
    "cluster = PBSCluster(\n",
    "    cores = 1,\n",
    "    memory = '50GB',\n",
    "    processes = 1,\n",
    "    queue = 'casper',\n",
    "    local_directory = '$TMPDIR',\n",
    "    resource_spec = 'select=1:ncpus=1:mem=20GB',\n",
    "    project='P04010022',\n",
    "    walltime='02:00:00',\n",
    "    interface='ib0')\n",
    "\n",
    "# scale up\n",
    "cluster.scale(20)\n",
    "\n",
    "# change your urls to the dask dashboard so that you can see it\n",
    "dask.config.set({'distributed.dashboard.link':'https://jupyterhub.hpc.ucar.edu/stable/user/{USER}/proxy/{port}/status'})\n",
    "\n",
    "# Setup your client\n",
    "client = Client(cluster)"
   ]
  },
  {
   "cell_type": "code",
   "execution_count": 12,
   "id": "1a846008-a887-4a5b-a205-0133d90706cb",
   "metadata": {},
   "outputs": [
    {
     "data": {
      "text/html": [
       "<div style='background-color: #f2f2f2; display: inline-block; padding: 10px; border: 1px solid #999999;'>\n",
       "  <h3>PBSCluster</h3>\n",
       "  <ul>\n",
       "    <li><b>Dashboard: </b><a href='https://jupyterhub.hpc.ucar.edu/stable/user/islas/proxy/46463/status' target='_blank'>https://jupyterhub.hpc.ucar.edu/stable/user/islas/proxy/46463/status</a>\n",
       "  </ul>\n",
       "</div>\n"
      ],
      "text/plain": [
       "PBSCluster('tcp://10.12.206.63:36167', workers=0, threads=0, memory=0 B)"
      ]
     },
     "metadata": {},
     "output_type": "display_data"
    }
   ],
   "source": [
    "cluster"
   ]
  },
  {
   "cell_type": "code",
   "execution_count": 13,
   "id": "3a937c28-f56a-499b-9224-f670934f5ef8",
   "metadata": {},
   "outputs": [],
   "source": [
    "#client.close()"
   ]
  },
  {
   "cell_type": "code",
   "execution_count": 15,
   "id": "da3904f8-2bbd-4182-879e-39b8da100469",
   "metadata": {},
   "outputs": [
    {
     "data": {
      "text/html": [
       "<table style=\"border: 2px solid white;\">\n",
       "<tr>\n",
       "<td style=\"vertical-align: top; border: 0px solid white\">\n",
       "<h3 style=\"text-align: left;\">Client</h3>\n",
       "<ul style=\"text-align: left; list-style: none; margin: 0; padding: 0;\">\n",
       "  <li><b>Scheduler: </b>tcp://10.12.206.63:36167</li>\n",
       "  <li><b>Dashboard: </b><a href='https://jupyterhub.hpc.ucar.edu/stable/user/islas/proxy/46463/status' target='_blank'>https://jupyterhub.hpc.ucar.edu/stable/user/islas/proxy/46463/status</a></li>\n",
       "</ul>\n",
       "</td>\n",
       "<td style=\"vertical-align: top; border: 0px solid white\">\n",
       "<h3 style=\"text-align: left;\">Cluster</h3>\n",
       "<ul style=\"text-align: left; list-style:none; margin: 0; padding: 0;\">\n",
       "  <li><b>Workers: </b>4</li>\n",
       "  <li><b>Cores: </b>4</li>\n",
       "  <li><b>Memory: </b>85.90 GB</li>\n",
       "</ul>\n",
       "</td>\n",
       "</tr>\n",
       "</table>"
      ],
      "text/plain": [
       "<Client: 'tcp://10.12.206.63:36167' processes=4 threads=4, memory=85.90 GB>"
      ]
     },
     "execution_count": 15,
     "metadata": {},
     "output_type": "execute_result"
    }
   ],
   "source": [
    "client"
   ]
  },
  {
   "cell_type": "code",
   "execution_count": 16,
   "id": "67b1c374-64b7-4dcb-904e-95bfcd5d58e0",
   "metadata": {},
   "outputs": [
    {
     "name": "stdout",
     "output_type": "stream",
     "text": [
      "001\n",
      "002\n",
      "003\n"
     ]
    }
   ],
   "source": [
    "for imem in memstr:\n",
    "    print(imem)\n",
    "    filelist = sorted(glob.glob(topdir+\"b.e21.BHISTcmip6.f09_g17.CESM2-SF-xAER.\"+imem+\n",
    "                                \"/lnd/proc/tseries/day_1/*.FSNO.*.nc\"))\n",
    "    dat = xr.open_mfdataset(filelist, concat_dim=['time'], coords='minimal')[['FSNO','time_bounds']]\n",
    "    dat = read.fixcesmtime(dat, timebndsvar='time_bounds')\n",
    "    dat['lon'] = landfrac.lon ; dat['lat'] = landfrac.lat\n",
    "    \n",
    "    lons=[286,174,95,213]\n",
    "    lats=[59,68,73,61]\n",
    "    locations=[]\n",
    "    for i in np.arange(0,len(lons),1):\n",
    "        loc = dat.sel(lon=lons[i],lat=lats[i], method='nearest')\n",
    "        locations.append(loc)\n",
    "    locations = xr.concat(locations, dim='point')\n",
    "    \n",
    "    locations = locations.where( ((locations.time.dt.month == 6) | (locations.time.dt.month == 7) | (locations.time.dt.month == 8)), drop=True)\n",
    "    locations.to_netcdf(\"/glade/scratch/islas/python/singleforcing/DATA_SORT/FSNO/FSNO_JJA_locations_XAER2_\"+imem+\".nc\")"
   ]
  },
  {
   "cell_type": "code",
   "execution_count": 17,
   "id": "1d696b9a-4f59-44e5-90ff-29e2a5071fc3",
   "metadata": {},
   "outputs": [],
   "source": [
    "#client.close()"
   ]
  },
  {
   "cell_type": "code",
   "execution_count": null,
   "id": "e8f09235-d108-424f-b754-9b56367bbfb8",
   "metadata": {},
   "outputs": [],
   "source": []
  }
 ],
 "metadata": {
  "kernelspec": {
   "display_name": "Python [conda env:miniconda3-ecpaperenv]",
   "language": "python",
   "name": "conda-env-miniconda3-ecpaperenv-py"
  },
  "language_info": {
   "codemirror_mode": {
    "name": "ipython",
    "version": 3
   },
   "file_extension": ".py",
   "mimetype": "text/x-python",
   "name": "python",
   "nbconvert_exporter": "python",
   "pygments_lexer": "ipython3",
   "version": "3.6.11"
  }
 },
 "nbformat": 4,
 "nbformat_minor": 5
}
