{
 "cells": [
  {
   "cell_type": "code",
   "execution_count": 2,
   "id": "9e6cb28f-74e2-4a9f-9cb5-ba5f1bc42b82",
   "metadata": {},
   "outputs": [],
   "source": [
    "import xarray as xr\n",
    "import numpy as np\n",
    "import matplotlib.pyplot as plt\n",
    "import glob\n",
    "import sys\n",
    "import dask\n",
    "import pop_tools \n",
    "from functools import partial\n",
    "import matplotlib.pyplot as plt\n",
    "\n",
    "from CASutils import lensread_utils as lens\n",
    "\n",
    "pathout=\"/glade/scratch/islas/python/singleforcing/DATA_SORT/cesm1_le/\"\n",
    "topdir=\"/glade/campaign/cesm/collections/cesmLE/CESM-CAM5-BGC-LE/ocn/proc/tseries/monthly/\"\n",
    "\n",
    "memstr = lens.lens1memnamegen(40)"
   ]
  },
  {
   "cell_type": "code",
   "execution_count": 4,
   "id": "43b2bf58-a1f9-427e-bcd6-d2e4f78db4fa",
   "metadata": {},
   "outputs": [
    {
     "name": "stderr",
     "output_type": "stream",
     "text": [
      "/glade/u/home/islas/miniconda3/envs/ecpaperenv/lib/python3.6/site-packages/distributed/node.py:155: UserWarning: Port 8787 is already in use.\n",
      "Perhaps you already have a cluster running?\n",
      "Hosting the HTTP server on port 37147 instead\n",
      "  http_address[\"port\"], self.http_server.port\n"
     ]
    }
   ],
   "source": [
    "from dask_jobqueue import PBSCluster\n",
    "from dask.distributed import Client\n",
    "\n",
    "cluster = PBSCluster(\n",
    "    cores = 1,\n",
    "    memory = '20GB',\n",
    "    processes = 1,\n",
    "    queue = 'casper',\n",
    "    local_directory = '$TMPDIR',\n",
    "    resource_spec = 'select=1:ncpus=1:mem=20GB',\n",
    "    project='P04010022',\n",
    "    walltime='06:00:00',\n",
    "    interface='ib0')\n",
    "\n",
    "# scale up\n",
    "cluster.scale(40)\n",
    "\n",
    "# change your urls to the dask dashboard so that you can see it\n",
    "dask.config.set({'distributed.dashboard.link':'https://jupyterhub.hpc.ucar.edu/stable/user/{USER}/proxy/{port}/status'})\n",
    "\n",
    "# Setup your client\n",
    "client = Client(cluster)"
   ]
  },
  {
   "cell_type": "code",
   "execution_count": 5,
   "id": "f1e6d1b0-fa00-4803-9b53-fe546bc30430",
   "metadata": {},
   "outputs": [
    {
     "data": {
      "text/html": [
       "<table style=\"border: 2px solid white;\">\n",
       "<tr>\n",
       "<td style=\"vertical-align: top; border: 0px solid white\">\n",
       "<h3 style=\"text-align: left;\">Client</h3>\n",
       "<ul style=\"text-align: left; list-style: none; margin: 0; padding: 0;\">\n",
       "  <li><b>Scheduler: </b>tcp://10.12.206.54:45636</li>\n",
       "  <li><b>Dashboard: </b><a href='https://jupyterhub.hpc.ucar.edu/stable/user/islas/proxy/37147/status' target='_blank'>https://jupyterhub.hpc.ucar.edu/stable/user/islas/proxy/37147/status</a></li>\n",
       "</ul>\n",
       "</td>\n",
       "<td style=\"vertical-align: top; border: 0px solid white\">\n",
       "<h3 style=\"text-align: left;\">Cluster</h3>\n",
       "<ul style=\"text-align: left; list-style:none; margin: 0; padding: 0;\">\n",
       "  <li><b>Workers: </b>40</li>\n",
       "  <li><b>Cores: </b>40</li>\n",
       "  <li><b>Memory: </b>800.00 GB</li>\n",
       "</ul>\n",
       "</td>\n",
       "</tr>\n",
       "</table>"
      ],
      "text/plain": [
       "<Client: 'tcp://10.12.206.54:45636' processes=40 threads=40, memory=800.00 GB>"
      ]
     },
     "execution_count": 5,
     "metadata": {},
     "output_type": "execute_result"
    }
   ],
   "source": [
    "client"
   ]
  },
  {
   "cell_type": "code",
   "execution_count": 6,
   "id": "b3da4125-0ecb-4c83-9824-2b7151c9cafe",
   "metadata": {},
   "outputs": [],
   "source": [
    "def fixtime(ds):\n",
    "    timebndavg = np.array(ds.time_bound,\n",
    "        dtype='datetime64[s]').view('i8').mean(axis=1).astype('datetime64[s]')\n",
    "    ds['time'] = timebndavg\n",
    "    return ds"
   ]
  },
  {
   "cell_type": "code",
   "execution_count": 7,
   "id": "fe73c8ef-733e-4bbf-a41e-dc03c31f9077",
   "metadata": {},
   "outputs": [],
   "source": [
    "def vertintegrate(ds, dz):\n",
    "    ds = ds.isel(z_t=slice(0,20))\n",
    "    dz = dz.isel(z_t=slice(0,20))\n",
    "    dsz = (ds*dz).sum('z_t')/dz.sum('z_t')\n",
    "    return dsz"
   ]
  },
  {
   "cell_type": "code",
   "execution_count": 8,
   "id": "25f79287-f9ad-423d-9e59-de671d7eed80",
   "metadata": {},
   "outputs": [],
   "source": [
    "def labseaavg(ds, tarea):\n",
    "    wgts = tarea\n",
    "    wgts = xr.where( (wgts.TLONG > 300) & (wgts.TLONG < 325), wgts, 0)\n",
    "    wgts = xr.where( (wgts.TLAT > 50) & (wgts.TLAT < 65), wgts, 0)\n",
    "    \n",
    "    ds_w = ds.weighted(wgts.fillna(0))\n",
    "    dsm = ds_w.mean((\"nlon\",\"nlat\"))\n",
    "    return dsm"
   ]
  },
  {
   "cell_type": "code",
   "execution_count": 9,
   "id": "6420257c-c423-4f5d-9d7e-76c1773ae78c",
   "metadata": {},
   "outputs": [
    {
     "name": "stdout",
     "output_type": "stream",
     "text": [
      "0\n",
      "1\n",
      "2\n",
      "3\n",
      "4\n",
      "5\n",
      "6\n",
      "7\n",
      "8\n",
      "9\n",
      "10\n",
      "11\n",
      "12\n",
      "13\n",
      "14\n",
      "15\n",
      "16\n",
      "17\n",
      "18\n",
      "19\n",
      "20\n",
      "21\n",
      "22\n",
      "23\n",
      "24\n",
      "25\n",
      "26\n",
      "27\n",
      "28\n",
      "29\n",
      "30\n",
      "31\n",
      "32\n",
      "33\n",
      "34\n",
      "35\n",
      "36\n",
      "37\n",
      "38\n",
      "39\n"
     ]
    }
   ],
   "source": [
    "rho_all=[]\n",
    "salt_all=[]\n",
    "temp_all=[]\n",
    "\n",
    "filelist_salt = [sorted(glob.glob(topdir+\"/SALT/b.e11.B20TRC5CNBDRD.f09_g16.\"+imem+\"*.nc\"))+\n",
    "                 sorted(glob.glob(topdir+\"/SALT/b.e11.BRCP85C5CNBDRD.f09_g16.\"+imem+\"*.nc\")) for imem in memstr ]\n",
    "filelist_temp = [sorted(glob.glob(topdir+\"/TEMP/b.e11.B20TRC5CNBDRD.f09_g16.\"+imem+\"*.nc\"))+\n",
    "                 sorted(glob.glob(topdir+\"/TEMP/b.e11.BRCP85C5CNBDRD.f09_g16.\"+imem+\"*.nc\")) for imem in memstr ]\n",
    "filelist_rho = [sorted(glob.glob(topdir+\"/RHO/b.e11.B20TRC5CNBDRD.f09_g16.\"+imem+\"*.nc\"))+\n",
    "                 sorted(glob.glob(topdir+\"/RHO/b.e11.BRCP85C5CNBDRD.f09_g16.\"+imem+\"*.nc\")) for imem in memstr ]\n",
    "\n",
    "\n",
    "for imem in np.arange(0,len(filelist_salt),1):\n",
    "    print(imem)\n",
    "        \n",
    "    dat = xr.open_mfdataset(filelist_salt[imem], concat_dim='time', parallel=True, chunks={\"time\":20, \"z_t\":60, \"nlat\":120, \"nlon\":120},\n",
    "                           data_vars=['time_bound','SALT'])\n",
    "    dat = fixtime(dat)\n",
    "    dat = dat.sel(time=slice(\"1920-01\",\"2050-12\"))\n",
    "    salt = dat.SALT ; tarea = dat.TAREA ; dz = dat.dz\n",
    "    saltz = vertintegrate(salt, dz)\n",
    "    salt_lab = labseaavg(saltz, tarea)\n",
    "    \n",
    "    dat = xr.open_mfdataset(filelist_temp[imem], concat_dim='time', parallel=True, chunks={\"time\":20, \"z_t\":60, \"nlat\":120, \"nlon\":120})\n",
    "    dat = fixtime(dat)\n",
    "    dat = dat.sel(time=slice(\"1920-01\",\"2050-12\"))\n",
    "    temp = dat.TEMP ; tarea = dat.TAREA.isel(time=0) ;dz = dat.dz.isel(time=0)\n",
    "    tempz = vertintegrate(temp, dz)\n",
    "    temp_lab = labseaavg(tempz, tarea)\n",
    "    \n",
    "    dat = xr.open_mfdataset(filelist_rho[imem], concat_dim='time', parallel=True, chunks={\"time\":20, \"z_t\":60, \"nlat\":120, \"nlon\":120})\n",
    "    dat = fixtime(dat)\n",
    "    dat = dat.sel(time=slice(\"1920-01\",\"2050-12\"))\n",
    "    rho = dat.RHO ; tarea = dat.TAREA.isel(time=0) ;dz = dat.dz.isel(time=0)\n",
    "    rhoz = vertintegrate(rho, dz)\n",
    "    rho_lab = labseaavg(rhoz, tarea)\n",
    "    \n",
    "    ref_depth = xr.DataArray(np.zeros(np.shape(temp_lab)), dims=temp_lab.dims, coords=temp_lab.coords) + 101.5 # because I'm using top 203m\n",
    "    rho,drhods,drhodt = pop_tools.eos(salt=salt_lab, temp=temp_lab, return_coefs=True,depth=ref_depth)\n",
    "    \n",
    "    temp_anom = temp_lab - temp_lab.mean('time')\n",
    "    salt_anom = salt_lab - salt_lab.mean('time')\n",
    "    rho_anom = rho - rho.mean('time')\n",
    "    \n",
    "    rho_temp = drhodt*temp_anom\n",
    "    rho_salt = drhods*salt_anom/1000. # not sure why, but this is necessary\n",
    "    \n",
    "    rho_anom = rho_anom.rename('RHO').load()\n",
    "    rho_temp = rho_temp.rename('RHO_TEMP').load()\n",
    "    rho_salt = rho_salt.rename('RHO_SALT').load()\n",
    "    \n",
    "    rho_all.append(rho_anom)\n",
    "    salt_all.append(rho_salt)\n",
    "    temp_all.append(rho_temp)\n",
    "    \n",
    "rho_all = xr.concat(rho_all, dim='M')\n",
    "salt_all = xr.concat(salt_all, dim='M')\n",
    "temp_all = xr.concat(temp_all, dim='M')"
   ]
  },
  {
   "cell_type": "code",
   "execution_count": 10,
   "id": "e1f4db37-c8cb-47b6-afe7-618cf48394e6",
   "metadata": {},
   "outputs": [],
   "source": [
    "rho_all.to_netcdf(pathout+'RHO_components_LENS1.nc')\n",
    "salt_all.to_netcdf(pathout+'RHO_components_LENS1.nc', mode='a')\n",
    "temp_all.to_netcdf(pathout+'RHO_components_LENS1.nc', mode='a')"
   ]
  },
  {
   "cell_type": "code",
   "execution_count": 11,
   "id": "69221542-c838-49d3-8938-6336664b2078",
   "metadata": {},
   "outputs": [],
   "source": [
    "cluster.close()"
   ]
  },
  {
   "cell_type": "code",
   "execution_count": null,
   "id": "4f941e8c-d732-41bc-94e3-fbe00ed27097",
   "metadata": {},
   "outputs": [],
   "source": []
  }
 ],
 "metadata": {
  "kernelspec": {
   "display_name": "Python [conda env:miniconda3-ecpaperenv]",
   "language": "python",
   "name": "conda-env-miniconda3-ecpaperenv-py"
  },
  "language_info": {
   "codemirror_mode": {
    "name": "ipython",
    "version": 3
   },
   "file_extension": ".py",
   "mimetype": "text/x-python",
   "name": "python",
   "nbconvert_exporter": "python",
   "pygments_lexer": "ipython3",
   "version": "3.6.11"
  }
 },
 "nbformat": 4,
 "nbformat_minor": 5
}
