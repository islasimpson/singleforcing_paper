{
 "cells": [
  {
   "cell_type": "code",
   "execution_count": 21,
   "id": "41660bba-fe82-4586-b19b-a86804fd7780",
   "metadata": {},
   "outputs": [],
   "source": [
    "import xarray as xr\n",
    "import numpy as np\n",
    "import glob\n",
    "import sys\n",
    "import dask\n",
    "\n",
    "from CASutils import averaging_utils as avg\n",
    "from CASutils import calendar_utils as cal\n",
    "\n",
    "from functools import partial\n",
    "\n",
    "pathout=\"/glade/scratch/islas/python/singleforcing/DATA_SORT/cesm1_aaer/\"\n",
    "topdir=\"/glade/collections/cdg/timeseries-cmip6/\"\n",
    "\n",
    "varnames=['SALT','PD','TEMP']"
   ]
  },
  {
   "cell_type": "code",
   "execution_count": 22,
   "id": "a48c7a9e-a2bc-4a8a-a7bc-d4ea11bedc4e",
   "metadata": {},
   "outputs": [
    {
     "name": "stderr",
     "output_type": "stream",
     "text": [
      "/glade/u/home/islas/miniconda3/envs/ecpaperenv/lib/python3.6/site-packages/distributed/node.py:155: UserWarning: Port 8787 is already in use.\n",
      "Perhaps you already have a cluster running?\n",
      "Hosting the HTTP server on port 41756 instead\n",
      "  http_address[\"port\"], self.http_server.port\n"
     ]
    }
   ],
   "source": [
    "from dask_jobqueue import PBSCluster\n",
    "from dask.distributed import Client\n",
    "\n",
    "cluster = PBSCluster(\n",
    "    cores = 1,\n",
    "    memory = '50GB',\n",
    "    processes = 1,\n",
    "    queue = 'casper',\n",
    "    local_directory = '$TMPDIR',\n",
    "    resource_spec = 'select=1:ncpus=1:mem=20GB',\n",
    "    project='P04010022',\n",
    "    walltime='01:00:00',\n",
    "    interface='ib0')\n",
    "\n",
    "# scale up\n",
    "cluster.scale(20)\n",
    "\n",
    "# change your urls to the dask dashboard so that you can see it\n",
    "dask.config.set({'distributed.dashboard.link':'https://jupyterhub.hpc.ucar.edu/stable/user/{USER}/proxy/{port}/status'})\n",
    "\n",
    "# Setup your client\n",
    "client = Client(cluster)"
   ]
  },
  {
   "cell_type": "code",
   "execution_count": 23,
   "id": "1c2ef436-a305-4cf5-acea-92633a876977",
   "metadata": {},
   "outputs": [
    {
     "data": {
      "text/html": [
       "<table style=\"border: 2px solid white;\">\n",
       "<tr>\n",
       "<td style=\"vertical-align: top; border: 0px solid white\">\n",
       "<h3 style=\"text-align: left;\">Client</h3>\n",
       "<ul style=\"text-align: left; list-style: none; margin: 0; padding: 0;\">\n",
       "  <li><b>Scheduler: </b>tcp://10.12.206.39:37801</li>\n",
       "  <li><b>Dashboard: </b><a href='https://jupyterhub.hpc.ucar.edu/stable/user/islas/proxy/41756/status' target='_blank'>https://jupyterhub.hpc.ucar.edu/stable/user/islas/proxy/41756/status</a></li>\n",
       "</ul>\n",
       "</td>\n",
       "<td style=\"vertical-align: top; border: 0px solid white\">\n",
       "<h3 style=\"text-align: left;\">Cluster</h3>\n",
       "<ul style=\"text-align: left; list-style:none; margin: 0; padding: 0;\">\n",
       "  <li><b>Workers: </b>0</li>\n",
       "  <li><b>Cores: </b>0</li>\n",
       "  <li><b>Memory: </b>0 B</li>\n",
       "</ul>\n",
       "</td>\n",
       "</tr>\n",
       "</table>"
      ],
      "text/plain": [
       "<Client: 'tcp://10.12.206.39:37801' processes=0 threads=0, memory=0 B>"
      ]
     },
     "execution_count": 23,
     "metadata": {},
     "output_type": "execute_result"
    }
   ],
   "source": [
    "client"
   ]
  },
  {
   "cell_type": "code",
   "execution_count": 24,
   "id": "c2280220-7838-4bda-b34c-b41df2989e8e",
   "metadata": {},
   "outputs": [],
   "source": [
    "nmems=3"
   ]
  },
  {
   "cell_type": "code",
   "execution_count": 25,
   "id": "65ad1b01-7271-47de-87cb-9f78ba8f1c20",
   "metadata": {},
   "outputs": [],
   "source": [
    "def preprocessor(ds):\n",
    "    ds = ds.sel(z_t=500)\n",
    "    timebndavg = np.array(ds.time_bound,\n",
    "        dtype='datetime64[s]').view('i8').mean(axis=1).astype('datetime64[s]')\n",
    "    ds['time'] = timebndavg\n",
    "    am = ds.groupby('time.year').mean('time')\n",
    "    return am"
   ]
  },
  {
   "cell_type": "code",
   "execution_count": 26,
   "id": "7f4874e6-ef77-4da4-abf3-cec6ee9bb6d9",
   "metadata": {},
   "outputs": [
    {
     "name": "stdout",
     "output_type": "stream",
     "text": [
      "SALT\n",
      "PD\n",
      "TEMP\n"
     ]
    }
   ],
   "source": [
    "for varname in varnames:\n",
    "    print(varname)\n",
    "    memstr = [ str(i).zfill(3) for i in np.arange(1,nmems+1,1)]\n",
    "    filelist = [ sorted(glob.glob(topdir+\"b.e11.B1850LENS.f09_g16.aaer.\"+imem+\"/ocn/proc/tseries/month_1/*.\"+varname+\".*.nc\"))+\n",
    "                 sorted(glob.glob(topdir+\"b.e11.B1850LENS.f09_g16.aaer.RCP85.\"+imem+\"/ocn/proc/tseries/month_1/*.\"+varname+\".*.nc\")) for imem in memstr ]\n",
    "    dat = [ xr.open_mfdataset(filelist[i], concat_dim=['time'], \n",
    "                              preprocess = partial(preprocessor))[varname] for i in np.arange(0,len(filelist),1) ]\n",
    "    dat = xr.concat(dat, dim='M')\n",
    "    dat.load().to_netcdf(pathout+\"AAER_\"+varname+\"_am.nc\")"
   ]
  },
  {
   "cell_type": "code",
   "execution_count": 27,
   "id": "9545d5a5-2e49-40d8-9747-47498a20ae11",
   "metadata": {},
   "outputs": [],
   "source": [
    "cluster.close()"
   ]
  },
  {
   "cell_type": "code",
   "execution_count": 10,
   "id": "3da18f16-fd51-490e-b260-81a194dea49e",
   "metadata": {},
   "outputs": [
    {
     "name": "stdout",
     "output_type": "stream",
     "text": [
      "/glade/collections/cdg/timeseries-cmip6/b.e11.B1850LENS.f09_g16.aaer.001/ocn/proc/tseries/month_1/\n"
     ]
    }
   ],
   "source": [
    "print(topdir+\"b.e11.B1850LENS.f09_g16.aaer.001/ocn/proc/tseries/month_1/\")"
   ]
  },
  {
   "cell_type": "code",
   "execution_count": 13,
   "id": "a85361d6-79a3-4a65-a19b-efda5533086c",
   "metadata": {},
   "outputs": [
    {
     "name": "stdout",
     "output_type": "stream",
     "text": [
      "['000', '001', '002', '003']\n"
     ]
    }
   ],
   "source": [
    "print(memstr)"
   ]
  },
  {
   "cell_type": "code",
   "execution_count": null,
   "id": "99c629c6-2b4a-40fc-ae06-b24e33994e95",
   "metadata": {},
   "outputs": [],
   "source": []
  }
 ],
 "metadata": {
  "kernelspec": {
   "display_name": "Python [conda env:miniconda3-ecpaperenv]",
   "language": "python",
   "name": "conda-env-miniconda3-ecpaperenv-py"
  },
  "language_info": {
   "codemirror_mode": {
    "name": "ipython",
    "version": 3
   },
   "file_extension": ".py",
   "mimetype": "text/x-python",
   "name": "python",
   "nbconvert_exporter": "python",
   "pygments_lexer": "ipython3",
   "version": "3.6.11"
  }
 },
 "nbformat": 4,
 "nbformat_minor": 5
}
