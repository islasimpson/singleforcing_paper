{
 "cells": [
  {
   "cell_type": "code",
   "execution_count": 1,
   "id": "55eb925b-57b2-4c81-883e-6df944f3e9f3",
   "metadata": {},
   "outputs": [
    {
     "data": {
      "text/plain": [
       "<dask.config.set at 0x2b42478f1b38>"
      ]
     },
     "execution_count": 1,
     "metadata": {},
     "output_type": "execute_result"
    }
   ],
   "source": [
    "import xarray as xr\n",
    "import numpy as np\n",
    "import matplotlib.pyplot as plt\n",
    "import dask\n",
    "import pop_tools\n",
    "import glob\n",
    "from functools import partial\n",
    "from CASutils import readdata_utils as read\n",
    "\n",
    "dask.config.set(**{'array.slicing.split_large_chunks': True})"
   ]
  },
  {
   "cell_type": "code",
   "execution_count": 2,
   "id": "762cad47-5d4c-4223-84d8-204ec09487c7",
   "metadata": {},
   "outputs": [],
   "source": [
    "topdir=\"SAL\""
   ]
  },
  {
   "cell_type": "code",
   "execution_count": 3,
   "id": "624a8c11-fe55-4b0b-b7a9-5e7195528f42",
   "metadata": {},
   "outputs": [],
   "source": [
    "from dask_jobqueue import PBSCluster\n",
    "from dask.distributed import Client\n",
    "\n",
    "cluster = PBSCluster(\n",
    "    cores = 1,\n",
    "    memory = '50GB',\n",
    "    processes = 1,\n",
    "    queue = 'casper',\n",
    "    local_directory = '$TMPDIR',\n",
    "    resource_spec = 'select=1:ncpus=1:mem=20GB',\n",
    "    project='P04010022',\n",
    "    walltime='04:00:00',\n",
    "    interface='ib0')\n",
    "\n",
    "# scale up\n",
    "cluster.scale(40)\n",
    "\n",
    "# change your urls to the dask dashboard so that you can see it\n",
    "dask.config.set({'distributed.dashboard.link':'https://jupyterhub.hpc.ucar.edu/stable/user/{USER}/proxy/{port}/status'})\n",
    "\n",
    "# Setup your client\n",
    "client = Client(cluster)"
   ]
  },
  {
   "cell_type": "code",
   "execution_count": 11,
   "id": "493c68ef-997e-4019-b838-92250870f2de",
   "metadata": {},
   "outputs": [
    {
     "data": {
      "text/html": [
       "<table style=\"border: 2px solid white;\">\n",
       "<tr>\n",
       "<td style=\"vertical-align: top; border: 0px solid white\">\n",
       "<h3 style=\"text-align: left;\">Client</h3>\n",
       "<ul style=\"text-align: left; list-style: none; margin: 0; padding: 0;\">\n",
       "  <li><b>Scheduler: </b>tcp://10.12.206.54:35697</li>\n",
       "  <li><b>Dashboard: </b><a href='https://jupyterhub.hpc.ucar.edu/stable/user/islas/proxy/8787/status' target='_blank'>https://jupyterhub.hpc.ucar.edu/stable/user/islas/proxy/8787/status</a></li>\n",
       "</ul>\n",
       "</td>\n",
       "<td style=\"vertical-align: top; border: 0px solid white\">\n",
       "<h3 style=\"text-align: left;\">Cluster</h3>\n",
       "<ul style=\"text-align: left; list-style:none; margin: 0; padding: 0;\">\n",
       "  <li><b>Workers: </b>40</li>\n",
       "  <li><b>Cores: </b>40</li>\n",
       "  <li><b>Memory: </b>858.99 GB</li>\n",
       "</ul>\n",
       "</td>\n",
       "</tr>\n",
       "</table>"
      ],
      "text/plain": [
       "<Client: 'tcp://10.12.206.54:35697' processes=40 threads=40, memory=858.99 GB>"
      ]
     },
     "execution_count": 11,
     "metadata": {},
     "output_type": "execute_result"
    }
   ],
   "source": [
    "client"
   ]
  },
  {
   "cell_type": "code",
   "execution_count": null,
   "id": "e6f62755-2eb0-450e-86c6-707c7c33f87c",
   "metadata": {},
   "outputs": [],
   "source": [
    "#cluster.close()"
   ]
  },
  {
   "cell_type": "code",
   "execution_count": 12,
   "id": "bbb9f4f7-7e2b-44ce-be19-ebddd159456c",
   "metadata": {},
   "outputs": [],
   "source": [
    "pathout=\"/glade/scratch/islas/python/singleforcing/DATA_SORT/cesm2_picontrol/\""
   ]
  },
  {
   "cell_type": "markdown",
   "id": "0428b29c-34a9-4327-9372-8eb3e3d80cee",
   "metadata": {},
   "source": [
    "### Read in TEMP and SALT"
   ]
  },
  {
   "cell_type": "code",
   "execution_count": 13,
   "id": "a74dbd04-912a-4a73-8297-4e79dc51f9f1",
   "metadata": {},
   "outputs": [],
   "source": [
    "filestemp = sorted(glob.glob(topdir+\"*.TEMP.*.nc\"))\n",
    "filessalt = sorted(glob.glob(topdir+\"*.SALT.*.nc\"))"
   ]
  },
  {
   "cell_type": "code",
   "execution_count": 19,
   "id": "550814e5-2c3f-4e47-b7c0-6c7c83587fcb",
   "metadata": {},
   "outputs": [],
   "source": [
    "tempz = []\n",
    "saltz = []\n",
    "timebnds = []\n",
    "for ifile in np.arange(0,len(filestemp),1):\n",
    "    temp = xr.open_dataset(filestemp[ifile], chunks={\"time\":300, \"z_t\":60, \"nlat\":120, \"nlon\":120})\n",
    "    tarea = temp.TAREA\n",
    "    dz = temp.dz\n",
    "    z_t = temp.z_t\n",
    "    timebndst = temp.time_bound\n",
    "\n",
    "    salt = xr.open_dataset(filessalt[ifile], chunks={\"time\":300, \"z_t\":60, \"nlat\":120, \"nlon\":120})\n",
    "    temp = temp.isel(z_t=slice(0,20)).TEMP\n",
    "    salt = salt.isel(z_t=slice(0,20)).SALT\n",
    "\n",
    "    dz = dz.isel(z_t=slice(0,20))\n",
    "    z_t = z_t.isel(z_t=slice(0,20))\n",
    "    \n",
    "    tempzt = (temp*dz).sum('z_t')/dz.sum('z_t')\n",
    "    saltzt = (salt*dz).sum('z_t')/dz.sum('z_t')\n",
    "    \n",
    "    tempz.append(tempzt)\n",
    "    saltz.append(saltzt)\n",
    "    timebnds.append(timebndst)\n",
    "    \n",
    "tempz = xr.concat(tempz, dim='time')\n",
    "saltz = xr.concat(saltz, dim='time')\n",
    "timebnds = xr.concat(timebnds, dim='time')"
   ]
  },
  {
   "cell_type": "code",
   "execution_count": 20,
   "id": "69c884d0-50bd-4f3d-b6df-672bb1fecdb7",
   "metadata": {},
   "outputs": [],
   "source": [
    "tempz = tempz.load()\n",
    "saltz = saltz.load()"
   ]
  },
  {
   "cell_type": "code",
   "execution_count": 21,
   "id": "187504d9-5bcb-4c03-b9e8-11c459d4e083",
   "metadata": {},
   "outputs": [],
   "source": [
    "tempz = tempz.rename('TEMP')\n",
    "saltz = saltz.rename('SALT') "
   ]
  },
  {
   "cell_type": "markdown",
   "id": "4d4fb741-016b-414c-a38e-ad7578853204",
   "metadata": {},
   "source": [
    "### Fix the time"
   ]
  },
  {
   "cell_type": "code",
   "execution_count": 22,
   "id": "f0c1f032-4083-428d-be6b-b6b3718fbdfd",
   "metadata": {},
   "outputs": [],
   "source": [
    "diff = np.array(timebnds.isel(d2=1)) - np.array(timebnds.isel(d2=0))\n",
    "diff = diff/2.\n",
    "newtime = np.array(timebnds.isel(d2=0)) + diff\n",
    "tempz['time'] = newtime\n",
    "saltz['time'] = newtime\n",
    "#pdz['time'] = newtime\n",
    "#rho_modelz['time'] = newtime\n",
    "#tarea['time'] = newtime"
   ]
  },
  {
   "cell_type": "markdown",
   "id": "6c127a71-a1b1-4d7f-bb2a-8acd108db35a",
   "metadata": {},
   "source": [
    "### Area average"
   ]
  },
  {
   "cell_type": "code",
   "execution_count": 23,
   "id": "af94798d-ae08-4b69-84a3-b4078f974517",
   "metadata": {},
   "outputs": [
    {
     "name": "stderr",
     "output_type": "stream",
     "text": [
      "/glade/u/home/islas/miniconda3/envs/ecpaperenv/lib/python3.6/site-packages/dask/array/einsumfuncs.py:241: PerformanceWarning: Increasing number of chunks by factor of 12\n",
      "  **kwargs\n",
      "/glade/u/home/islas/miniconda3/envs/ecpaperenv/lib/python3.6/site-packages/dask/array/einsumfuncs.py:241: PerformanceWarning: Increasing number of chunks by factor of 12\n",
      "  **kwargs\n"
     ]
    }
   ],
   "source": [
    "wgts = tarea\n",
    "wgts = xr.where( (wgts.TLONG > 300) & (wgts.TLONG < 325), wgts, 0)\n",
    "wgts = xr.where( (wgts.TLAT > 50) & (wgts.TLAT < 65), wgts, 0)\n",
    "\n",
    "tempz_w = tempz.weighted(wgts.fillna(0))\n",
    "saltz_w = saltz.weighted(wgts.fillna(0))\n",
    "#pdz_w = pdz.weighted(wgts.fillna(0))\n",
    "#rho_model_w = rho_modelz.weighted(wgts.fillna(0))\n",
    "\n",
    "tempzm = tempz_w.mean((\"nlon\",\"nlat\"))\n",
    "saltzm = saltz_w.mean((\"nlon\",\"nlat\"))\n",
    "#pdzm = pdz_w.mean((\"nlon\",\"nlat\"))\n",
    "#rho_model_zm = rho_model_w.mean((\"nlon\",\"nlat\"))"
   ]
  },
  {
   "cell_type": "markdown",
   "id": "41e548d5-6b73-4dbd-977e-a3b2372c990d",
   "metadata": {},
   "source": [
    "### Do the EOS calculation"
   ]
  },
  {
   "cell_type": "code",
   "execution_count": 24,
   "id": "cbaa94e9-c7b2-4545-a387-76c2192aeb6a",
   "metadata": {},
   "outputs": [],
   "source": [
    "ref_depth = xr.DataArray(np.zeros(np.shape(tempzm)), dims=tempzm.dims, coords=tempzm.coords) + 101.5\n",
    "rho,drhods,drhodt = pop_tools.eos(salt=saltzm, temp=tempzm, return_coefs=True,depth=ref_depth)"
   ]
  },
  {
   "cell_type": "code",
   "execution_count": 25,
   "id": "d3369d25-c2ea-4fa6-b0ab-a4658643bbb9",
   "metadata": {},
   "outputs": [],
   "source": [
    "tempz_anom = tempzm - tempzm.mean('time')\n",
    "saltz_anom = saltzm - saltzm.mean('time')\n",
    "#pdz_anom = pdzm - pdzm.mean('time')\n",
    "#rho_model_anom = rho_model_zm - rho_model_zm.mean('time')\n",
    "\n",
    "rho_anom_temp = tempz_anom*drhodt\n",
    "rho_anom_salt = saltz_anom*drhods"
   ]
  },
  {
   "cell_type": "code",
   "execution_count": 26,
   "id": "03b7388c-6144-4cdb-a980-83e88877c6d1",
   "metadata": {},
   "outputs": [],
   "source": [
    "rho_anom = rho - rho.mean('time')"
   ]
  },
  {
   "cell_type": "code",
   "execution_count": 27,
   "id": "e9730df0-8d73-452c-8f95-7879ef2c6c9b",
   "metadata": {},
   "outputs": [],
   "source": [
    "# Convert pdz into kg/m3 from g/cm3\n",
    "#pdz_anom = (pdz_anom/1000.)*100.*100.*100.\n",
    "#pdz_anom.attrs['units'] = 'kg/m3'\n",
    "\n",
    "# Convert density into kg/m3 from g/cm3\n",
    "#rho_model_anom =(rho_model_anom/1000.)*100.*100.*100.\n",
    "#rho_model_anom.attrs['units'] = 'kg/m3'\n",
    "\n",
    "# Convert salt part into kg/m3 from ?????\n",
    "rho_anom_salt = rho_anom_salt/1000."
   ]
  },
  {
   "cell_type": "code",
   "execution_count": 28,
   "id": "579e3ef6-3be9-4be6-925c-8e90ae3e62b5",
   "metadata": {},
   "outputs": [],
   "source": [
    "#plt.plot(np.arange(0,pdz_anom.time.size,1), pdz_anom, color='black', label='PD')\n",
    "#plt.plot(np.arange(0,pdz_anom.time.size,1), rho_anom_temp, color='red', label='TEMP part')\n",
    "#plt.plot(np.arange(0,pdz_anom.time.size,1), rho_anom_salt/1000., color='green', label='SALT part/1000.')\n",
    "#plt.plot(np.arange(0,pdz_anom.time.size,1), rho_anom_temp + rho_anom_salt/1000., color='royalblue', linestyle='dotted', label='SALT + TEMP')\n",
    "#plt.xlim(0,100)\n",
    "#plt.legend(ncol=2)"
   ]
  },
  {
   "cell_type": "code",
   "execution_count": 29,
   "id": "ce13558e-909d-4b8c-9526-5dbb8537ce03",
   "metadata": {},
   "outputs": [],
   "source": [
    "#plt.plot(np.arange(0,pdz_anom.time.size,1), rho_anom, color='black', label='RHO')\n",
    "#plt.plot(np.arange(0,pdz_anom.time.size,1), rho_anom_temp, color='red', label='TEMP part')\n",
    "#plt.plot(np.arange(0,pdz_anom.time.size,1), rho_anom_salt/1000., color='green', label='SALT part/1000.')\n",
    "#plt.plot(np.arange(0,pdz_anom.time.size,1), rho_anom_temp + rho_anom_salt/1000., color='royalblue', linestyle='dotted', label='SALT + TEMP')\n",
    "#plt.xlim(0,100)\n",
    "#plt.legend(ncol=2)"
   ]
  },
  {
   "cell_type": "code",
   "execution_count": 30,
   "id": "be4d193c-2945-494c-952d-5ed0d065018e",
   "metadata": {},
   "outputs": [],
   "source": [
    "#plt.plot(np.arange(0,pdz_anom.time.size,1), rho_model_anom)\n",
    "#plt.xlim(0,100)"
   ]
  },
  {
   "cell_type": "code",
   "execution_count": 31,
   "id": "9fb26064-f32e-4bdc-b52f-c91ae395b767",
   "metadata": {},
   "outputs": [],
   "source": [
    "rho_anom_temp = rho_anom_temp.rename('TEMP_part')\n",
    "rho_anom_salt = rho_anom_salt.rename('SALT_part')\n",
    "rho_anom = rho_anom.rename('RHO_from_EOS')\n",
    "\n",
    "rho_anom_temp.to_netcdf(\"/glade/scratch/islas/python/singleforcing/DATA_SORT/cesm2_picontrol/RHO_contributions_CESM2_picontrol.nc\")\n",
    "rho_anom_salt.to_netcdf(\"/glade/scratch/islas/python/singleforcing/DATA_SORT/cesm2_picontrol/RHO_contributions_CESM2_picontrol.nc\", mode=\"a\")\n",
    "rho_anom.to_netcdf(\"/glade/scratch/islas/python/singleforcing/DATA_SORT/cesm2_picontrol/RHO_contributions_CESM2_picontrol.nc\", mode=\"a\")\n",
    "#pdz_anom.to_netcdf(\"/glade/scratch/islas/python/singleforcing/DATA_SORT/cesm2_picontrol/RHO_contributions_CESM2_picontrol.nc\", mode=\"a\")\n",
    "#rho_model_anom.to_netcdf(\"/glade/scratch/islas/python/singleforcing/DATA_SORT/cesm2_picontrol/RHO_contributions_CESM2_picontrol.nc\", mode=\"a\")"
   ]
  },
  {
   "cell_type": "code",
   "execution_count": 32,
   "id": "766c626f-7f0f-4485-be97-28e716dcecf6",
   "metadata": {},
   "outputs": [],
   "source": [
    "cluster.close()"
   ]
  },
  {
   "cell_type": "code",
   "execution_count": null,
   "id": "0fba1593-f8ac-4c89-b9cf-2d440451a335",
   "metadata": {},
   "outputs": [],
   "source": []
  }
 ],
 "metadata": {
  "kernelspec": {
   "display_name": "Python [conda env:miniconda3-ecpaperenv]",
   "language": "python",
   "name": "conda-env-miniconda3-ecpaperenv-py"
  },
  "language_info": {
   "codemirror_mode": {
    "name": "ipython",
    "version": 3
   },
   "file_extension": ".py",
   "mimetype": "text/x-python",
   "name": "python",
   "nbconvert_exporter": "python",
   "pygments_lexer": "ipython3",
   "version": "3.6.11"
  }
 },
 "nbformat": 4,
 "nbformat_minor": 5
}
