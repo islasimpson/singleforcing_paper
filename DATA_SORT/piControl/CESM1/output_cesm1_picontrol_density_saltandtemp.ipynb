{
 "cells": [
  {
   "cell_type": "code",
   "execution_count": 1,
   "id": "e2db1bea-24c2-4a47-8c33-d455ce95309b",
   "metadata": {},
   "outputs": [
    {
     "data": {
      "text/plain": [
       "<dask.config.set at 0x2b7c70f80e80>"
      ]
     },
     "execution_count": 1,
     "metadata": {},
     "output_type": "execute_result"
    }
   ],
   "source": [
    "import xarray as xr\n",
    "import numpy as np\n",
    "import matplotlib.pyplot as plt\n",
    "import dask\n",
    "import pop_tools\n",
    "import glob\n",
    "from functools import partial\n",
    "from CASutils import readdata_utils as read\n",
    "\n",
    "dask.config.set(**{'array.slicing.split_large_chunks': True})"
   ]
  },
  {
   "cell_type": "code",
   "execution_count": 2,
   "id": "9b489eb7-0399-46d9-8a33-cb40e2d7d102",
   "metadata": {},
   "outputs": [
    {
     "name": "stderr",
     "output_type": "stream",
     "text": [
      "/glade/u/home/islas/miniconda3/envs/ecpaperenv/lib/python3.6/site-packages/distributed/node.py:155: UserWarning: Port 8787 is already in use.\n",
      "Perhaps you already have a cluster running?\n",
      "Hosting the HTTP server on port 34963 instead\n",
      "  http_address[\"port\"], self.http_server.port\n"
     ]
    }
   ],
   "source": [
    "from dask_jobqueue import PBSCluster\n",
    "from dask.distributed import Client\n",
    "\n",
    "cluster = PBSCluster(\n",
    "    cores = 1,\n",
    "    memory = '50GB',\n",
    "    processes = 1,\n",
    "    queue = 'casper',\n",
    "    local_directory = '$TMPDIR',\n",
    "    resource_spec = 'select=1:ncpus=1:mem=20GB',\n",
    "    project='P04010022',\n",
    "    walltime='04:00:00',\n",
    "    interface='ib0')\n",
    "\n",
    "# scale up\n",
    "cluster.scale(40)\n",
    "\n",
    "# change your urls to the dask dashboard so that you can see it\n",
    "dask.config.set({'distributed.dashboard.link':'https://jupyterhub.hpc.ucar.edu/stable/user/{USER}/proxy/{port}/status'})\n",
    "\n",
    "# Setup your client\n",
    "client = Client(cluster)"
   ]
  },
  {
   "cell_type": "code",
   "execution_count": 5,
   "id": "7ee28256-8b77-47d2-aa97-0bc08ea0efe0",
   "metadata": {},
   "outputs": [
    {
     "data": {
      "text/html": [
       "<table style=\"border: 2px solid white;\">\n",
       "<tr>\n",
       "<td style=\"vertical-align: top; border: 0px solid white\">\n",
       "<h3 style=\"text-align: left;\">Client</h3>\n",
       "<ul style=\"text-align: left; list-style: none; margin: 0; padding: 0;\">\n",
       "  <li><b>Scheduler: </b>tcp://10.12.206.54:38041</li>\n",
       "  <li><b>Dashboard: </b><a href='https://jupyterhub.hpc.ucar.edu/stable/user/islas/proxy/34963/status' target='_blank'>https://jupyterhub.hpc.ucar.edu/stable/user/islas/proxy/34963/status</a></li>\n",
       "</ul>\n",
       "</td>\n",
       "<td style=\"vertical-align: top; border: 0px solid white\">\n",
       "<h3 style=\"text-align: left;\">Cluster</h3>\n",
       "<ul style=\"text-align: left; list-style:none; margin: 0; padding: 0;\">\n",
       "  <li><b>Workers: </b>40</li>\n",
       "  <li><b>Cores: </b>40</li>\n",
       "  <li><b>Memory: </b>858.99 GB</li>\n",
       "</ul>\n",
       "</td>\n",
       "</tr>\n",
       "</table>"
      ],
      "text/plain": [
       "<Client: 'tcp://10.12.206.54:38041' processes=22 threads=22, memory=472.45 GB>"
      ]
     },
     "execution_count": 5,
     "metadata": {},
     "output_type": "execute_result"
    }
   ],
   "source": [
    "client"
   ]
  },
  {
   "cell_type": "code",
   "execution_count": 6,
   "id": "d7c3cf6b-a20c-47d1-9588-aeef2b4cc700",
   "metadata": {},
   "outputs": [],
   "source": [
    "pathout=\"/glade/scratch/islas/python/singleforcing/DATA_SORT/cesm1_picontrol/\""
   ]
  },
  {
   "cell_type": "markdown",
   "id": "fce1ec6c-fc4c-400b-88b9-e6be03cddea5",
   "metadata": {},
   "source": [
    "### Read in TEMP and SALT"
   ]
  },
  {
   "cell_type": "code",
   "execution_count": 7,
   "id": "f324ce25-e0ea-44aa-aa64-87cd1d64e37a",
   "metadata": {},
   "outputs": [],
   "source": [
    "topdir=\"/glade/campaign/cesm/collections/cesmLE/CESM-CAM5-BGC-LE/ocn/proc/tseries/monthly/\"\n",
    "filestemp = sorted(glob.glob(topdir+\"/TEMP/b.e11.B1850C5CN.*.TEMP.*.nc\"))\n",
    "filessalt = sorted(glob.glob(topdir+\"/SALT/b.e11.B1850C5CN.*.SALT.*.nc\"))"
   ]
  },
  {
   "cell_type": "code",
   "execution_count": 8,
   "id": "db8f9efb-2150-444a-98bf-40fdcc02b971",
   "metadata": {},
   "outputs": [
    {
     "name": "stdout",
     "output_type": "stream",
     "text": [
      "0\n",
      "1\n",
      "2\n",
      "3\n",
      "4\n",
      "5\n",
      "6\n",
      "7\n",
      "8\n",
      "9\n",
      "10\n",
      "11\n",
      "12\n",
      "13\n",
      "14\n",
      "15\n",
      "16\n",
      "17\n"
     ]
    }
   ],
   "source": [
    "tempz = []\n",
    "saltz = []\n",
    "timebnds = []\n",
    "for ifile in np.arange(0,len(filestemp),1):\n",
    "    print(ifile)\n",
    "    temp = xr.open_dataset(filestemp[ifile], chunks={\"time\":300, \"z_t\":60, \"nlat\":120, \"nlon\":120})\n",
    "    tarea = temp.TAREA\n",
    "    dz = temp.dz\n",
    "    z_t = temp.z_t\n",
    "    timebndst = temp.time_bound\n",
    "\n",
    "    salt = xr.open_dataset(filessalt[ifile], chunks={\"time\":300, \"z_t\":60, \"nlat\":120, \"nlon\":120})\n",
    "    temp = temp.isel(z_t=slice(0,20)).TEMP\n",
    "    salt = salt.isel(z_t=slice(0,20)).SALT\n",
    "\n",
    "    dz = dz.isel(z_t=slice(0,20))\n",
    "    z_t = z_t.isel(z_t=slice(0,20))\n",
    "    \n",
    "    tempzt = (temp*dz).sum('z_t')/dz.sum('z_t')\n",
    "    saltzt = (salt*dz).sum('z_t')/dz.sum('z_t')\n",
    "    \n",
    "    tempzt = tempzt.load()\n",
    "    saltzt = saltzt.load()\n",
    "    \n",
    "    tempz.append(tempzt)\n",
    "    saltz.append(saltzt)\n",
    "    timebnds.append(timebndst)\n",
    "    \n",
    "tempz = xr.concat(tempz, dim='time')\n",
    "saltz = xr.concat(saltz, dim='time')\n",
    "timebnds = xr.concat(timebnds, dim='time')"
   ]
  },
  {
   "cell_type": "code",
   "execution_count": 9,
   "id": "91d90530-a95d-440f-89d4-9329ea8994ff",
   "metadata": {},
   "outputs": [],
   "source": [
    "tempz = tempz.load()\n",
    "saltz = saltz.load()"
   ]
  },
  {
   "cell_type": "code",
   "execution_count": 10,
   "id": "9dbccfce-b46f-461e-823e-00a252ea6105",
   "metadata": {},
   "outputs": [],
   "source": [
    "tempz = tempz.rename('TEMP')\n",
    "saltz = saltz.rename('SALT') "
   ]
  },
  {
   "cell_type": "markdown",
   "id": "be0273e7-e272-40a3-9588-c29ebeda0ca9",
   "metadata": {},
   "source": [
    "### Fix the time"
   ]
  },
  {
   "cell_type": "code",
   "execution_count": 11,
   "id": "ff3715b2-18a3-42d4-9023-18cdd14c169a",
   "metadata": {},
   "outputs": [],
   "source": [
    "diff = np.array(timebnds.isel(d2=1)) - np.array(timebnds.isel(d2=0))\n",
    "diff = diff/2.\n",
    "newtime = np.array(timebnds.isel(d2=0)) + diff\n",
    "tempz['time'] = newtime\n",
    "saltz['time'] = newtime"
   ]
  },
  {
   "cell_type": "markdown",
   "id": "45469d93-dc90-4c93-ae28-325739656ea7",
   "metadata": {},
   "source": [
    "### Area average"
   ]
  },
  {
   "cell_type": "code",
   "execution_count": 12,
   "id": "68e97274-2629-4c92-9e62-7f4f23b3fd2d",
   "metadata": {},
   "outputs": [
    {
     "name": "stderr",
     "output_type": "stream",
     "text": [
      "/glade/u/home/islas/miniconda3/envs/ecpaperenv/lib/python3.6/site-packages/dask/array/einsumfuncs.py:241: PerformanceWarning: Increasing number of chunks by factor of 12\n",
      "  **kwargs\n",
      "/glade/u/home/islas/miniconda3/envs/ecpaperenv/lib/python3.6/site-packages/dask/array/einsumfuncs.py:241: PerformanceWarning: Increasing number of chunks by factor of 12\n",
      "  **kwargs\n"
     ]
    }
   ],
   "source": [
    "wgts = tarea\n",
    "wgts = xr.where( (wgts.TLONG > 300) & (wgts.TLONG < 325), wgts, 0)\n",
    "wgts = xr.where( (wgts.TLAT > 50) & (wgts.TLAT < 65), wgts, 0)\n",
    "\n",
    "tempz_w = tempz.weighted(wgts.fillna(0))\n",
    "saltz_w = saltz.weighted(wgts.fillna(0))\n",
    "#pdz_w = pdz.weighted(wgts.fillna(0))\n",
    "#rho_model_w = rho_modelz.weighted(wgts.fillna(0))\n",
    "\n",
    "tempzm = tempz_w.mean((\"nlon\",\"nlat\"))\n",
    "saltzm = saltz_w.mean((\"nlon\",\"nlat\"))\n",
    "#pdzm = pdz_w.mean((\"nlon\",\"nlat\"))\n",
    "#rho_model_zm = rho_model_w.mean((\"nlon\",\"nlat\"))"
   ]
  },
  {
   "cell_type": "markdown",
   "id": "e0d9d4ad-61e1-4c9e-b022-606c6a9bf554",
   "metadata": {},
   "source": [
    "### Do the EOS calculation"
   ]
  },
  {
   "cell_type": "code",
   "execution_count": 13,
   "id": "14366abd-7ebc-43f3-baeb-82976185e830",
   "metadata": {},
   "outputs": [],
   "source": [
    "ref_depth = xr.DataArray(np.zeros(np.shape(tempzm)), dims=tempzm.dims, coords=tempzm.coords) + 101.5\n",
    "rho,drhods,drhodt = pop_tools.eos(salt=saltzm, temp=tempzm, return_coefs=True,depth=ref_depth)"
   ]
  },
  {
   "cell_type": "code",
   "execution_count": 14,
   "id": "8fb8bdd0-ebe2-460f-9805-c474f6cbc01d",
   "metadata": {},
   "outputs": [],
   "source": [
    "tempz_anom = tempzm - tempzm.mean('time')\n",
    "saltz_anom = saltzm - saltzm.mean('time')\n",
    "#pdz_anom = pdzm - pdzm.mean('time')\n",
    "#rho_model_anom = rho_model_zm - rho_model_zm.mean('time')\n",
    "\n",
    "rho_anom_temp = tempz_anom*drhodt\n",
    "rho_anom_salt = saltz_anom*drhods"
   ]
  },
  {
   "cell_type": "code",
   "execution_count": 15,
   "id": "7e1d037b-60f4-4683-ba61-e96409acea3c",
   "metadata": {},
   "outputs": [],
   "source": [
    "rho_anom = rho - rho.mean('time')"
   ]
  },
  {
   "cell_type": "code",
   "execution_count": 16,
   "id": "fe9d9134-a482-4808-b77f-6c5a7fe4998d",
   "metadata": {},
   "outputs": [],
   "source": [
    "rho_anom_salt = rho_anom_salt/1000."
   ]
  },
  {
   "cell_type": "code",
   "execution_count": 17,
   "id": "1d2213aa-a1fd-4174-87a0-cec0cc1c969b",
   "metadata": {},
   "outputs": [],
   "source": [
    "rho_anom_temp = rho_anom_temp.rename('TEMP_part')\n",
    "rho_anom_salt = rho_anom_salt.rename('SALT_part')\n",
    "rho_anom = rho_anom.rename('RHO_from_EOS')\n",
    "\n",
    "rho_anom_temp.to_netcdf(\"/glade/scratch/islas/python/singleforcing/DATA_SORT/cesm1_picontrol/RHO_contributions_CESM1_picontrol.nc\")\n",
    "rho_anom_salt.to_netcdf(\"/glade/scratch/islas/python/singleforcing/DATA_SORT/cesm1_picontrol/RHO_contributions_CESM1_picontrol.nc\", mode=\"a\")\n",
    "rho_anom.to_netcdf(\"/glade/scratch/islas/python/singleforcing/DATA_SORT/cesm1_picontrol/RHO_contributions_CESM1_picontrol.nc\", mode=\"a\")"
   ]
  },
  {
   "cell_type": "code",
   "execution_count": 18,
   "id": "f9deca4f-25c6-4883-8611-0802ecb7249d",
   "metadata": {},
   "outputs": [],
   "source": [
    "cluster.close()"
   ]
  },
  {
   "cell_type": "code",
   "execution_count": null,
   "id": "98af36b4-3d71-48d0-a843-439dffdd044f",
   "metadata": {},
   "outputs": [],
   "source": []
  }
 ],
 "metadata": {
  "kernelspec": {
   "display_name": "Python [conda env:islaenv]",
   "language": "python",
   "name": "conda-env-islaenv-py"
  },
  "language_info": {
   "codemirror_mode": {
    "name": "ipython",
    "version": 3
   },
   "file_extension": ".py",
   "mimetype": "text/x-python",
   "name": "python",
   "nbconvert_exporter": "python",
   "pygments_lexer": "ipython3",
   "version": "3.7.12"
  }
 },
 "nbformat": 4,
 "nbformat_minor": 5
}
