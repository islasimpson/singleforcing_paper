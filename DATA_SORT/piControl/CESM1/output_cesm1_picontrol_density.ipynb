{
 "cells": [
  {
   "cell_type": "code",
   "execution_count": 43,
   "id": "55eb925b-57b2-4c81-883e-6df944f3e9f3",
   "metadata": {},
   "outputs": [
    {
     "data": {
      "text/plain": [
       "<dask.config.set at 0x2b5c65933860>"
      ]
     },
     "execution_count": 43,
     "metadata": {},
     "output_type": "execute_result"
    }
   ],
   "source": [
    "import xarray as xr\n",
    "import numpy as np\n",
    "import matplotlib.pyplot as plt\n",
    "import dask\n",
    "\n",
    "from functools import partial\n",
    "\n",
    "dask.config.set(**{'array.slicing.split_large_chunks': True})"
   ]
  },
  {
   "cell_type": "code",
   "execution_count": 2,
   "id": "762cad47-5d4c-4223-84d8-204ec09487c7",
   "metadata": {},
   "outputs": [],
   "source": [
    "topdir=\"/glade/campaign/cesm/collections/cesmLE/CESM-CAM5-BGC-LE/ocn/proc/tseries/monthly/RHO/\""
   ]
  },
  {
   "cell_type": "code",
   "execution_count": 123,
   "id": "624a8c11-fe55-4b0b-b7a9-5e7195528f42",
   "metadata": {},
   "outputs": [
    {
     "name": "stderr",
     "output_type": "stream",
     "text": [
      "/glade/u/home/islas/miniconda3/envs/ecpaperenv/lib/python3.6/site-packages/distributed/node.py:155: UserWarning: Port 8787 is already in use.\n",
      "Perhaps you already have a cluster running?\n",
      "Hosting the HTTP server on port 46421 instead\n",
      "  http_address[\"port\"], self.http_server.port\n"
     ]
    }
   ],
   "source": [
    "from dask_jobqueue import PBSCluster\n",
    "from dask.distributed import Client\n",
    "\n",
    "cluster = PBSCluster(\n",
    "    cores = 1,\n",
    "    memory = '50GB',\n",
    "    processes = 1,\n",
    "    queue = 'casper',\n",
    "    local_directory = '$TMPDIR',\n",
    "    resource_spec = 'select=1:ncpus=1:mem=20GB',\n",
    "    project='P04010022',\n",
    "    walltime='03:00:00',\n",
    "    interface='ib0')\n",
    "\n",
    "# scale up\n",
    "cluster.scale(30)\n",
    "\n",
    "# change your urls to the dask dashboard so that you can see it\n",
    "dask.config.set({'distributed.dashboard.link':'https://jupyterhub.hpc.ucar.edu/stable/user/{USER}/proxy/{port}/status'})\n",
    "\n",
    "# Setup your client\n",
    "client = Client(cluster)"
   ]
  },
  {
   "cell_type": "code",
   "execution_count": 124,
   "id": "493c68ef-997e-4019-b838-92250870f2de",
   "metadata": {},
   "outputs": [
    {
     "data": {
      "text/html": [
       "<table style=\"border: 2px solid white;\">\n",
       "<tr>\n",
       "<td style=\"vertical-align: top; border: 0px solid white\">\n",
       "<h3 style=\"text-align: left;\">Client</h3>\n",
       "<ul style=\"text-align: left; list-style: none; margin: 0; padding: 0;\">\n",
       "  <li><b>Scheduler: </b>tcp://10.12.206.60:43217</li>\n",
       "  <li><b>Dashboard: </b><a href='https://jupyterhub.hpc.ucar.edu/stable/user/islas/proxy/46421/status' target='_blank'>https://jupyterhub.hpc.ucar.edu/stable/user/islas/proxy/46421/status</a></li>\n",
       "</ul>\n",
       "</td>\n",
       "<td style=\"vertical-align: top; border: 0px solid white\">\n",
       "<h3 style=\"text-align: left;\">Cluster</h3>\n",
       "<ul style=\"text-align: left; list-style:none; margin: 0; padding: 0;\">\n",
       "  <li><b>Workers: </b>28</li>\n",
       "  <li><b>Cores: </b>28</li>\n",
       "  <li><b>Memory: </b>601.30 GB</li>\n",
       "</ul>\n",
       "</td>\n",
       "</tr>\n",
       "</table>"
      ],
      "text/plain": [
       "<Client: 'tcp://10.12.206.60:43217' processes=28 threads=28, memory=601.30 GB>"
      ]
     },
     "execution_count": 124,
     "metadata": {},
     "output_type": "execute_result"
    }
   ],
   "source": [
    "client"
   ]
  },
  {
   "cell_type": "code",
   "execution_count": 125,
   "id": "aaafe90f-75d6-4ac0-bb47-a21232499d86",
   "metadata": {},
   "outputs": [],
   "source": [
    "dat = xr.open_mfdataset(\"/glade/campaign/cesm/collections/cesmLE/CESM-CAM5-BGC-LE/ocn/proc/tseries/monthly/RHO/\"+\n",
    "                      \"b.e11.B1850C5CN.f09_g16.005.pop.h.RHO.*.nc\", \n",
    "                       chunks={\"time\":300, \"z_t\":60, \"nlat\":30, \"nlon\":30},\n",
    "                       concat_dim='time', combine='by_coords', coords='minimal')"
   ]
  },
  {
   "cell_type": "code",
   "execution_count": 126,
   "id": "7f458159-c022-42a7-82e4-7fdcc4a2f02c",
   "metadata": {},
   "outputs": [],
   "source": [
    "timebnds = dat.time_bound\n",
    "tarea = dat.TAREA\n",
    "dz = dat.dz\n",
    "z_t = dat.z_t\n",
    "tarea = dat.TAREA\n",
    "dat = dat.RHO\n",
    "diff = np.array(timebnds.isel(d2=1)) - np.array(timebnds.isel(d2=0))\n",
    "diff = diff/2.\n",
    "newtime = np.array(timebnds.isel(d2=0)) + diff\n",
    "dat['time'] = newtime\n",
    "dz['time'] = newtime\n",
    "tarea['time'] = newtime\n",
    "dat = dat[dat.time.dt.month == 3]\n",
    "dz = dz[dz.time.dt.month == 3]\n",
    "dat = dat.isel(z_t=slice(0,20))\n",
    "z_t = z_t.isel(z_t=slice(0,20))\n",
    "dz = dz.isel(z_t=slice(0,20))"
   ]
  },
  {
   "cell_type": "code",
   "execution_count": 127,
   "id": "53a58123-9b01-4c3a-8a54-dae547a6d7f6",
   "metadata": {},
   "outputs": [],
   "source": [
    "dat = dat.chunk(chunks={\"time\":300, \"z_t\":60, \"nlat\":30, \"nlon\":30})\n",
    "dz = dz.chunk(chunks={\"time\":300, \"z_t\":60})\n",
    "tarea = tarea.chunk(chunks={\"time\":300, \"nlat\":30, \"nlon\":30})"
   ]
  },
  {
   "cell_type": "code",
   "execution_count": 128,
   "id": "c7858df5-4b0c-484f-a5df-63be31e64b07",
   "metadata": {},
   "outputs": [],
   "source": [
    "rho = (dat*dz).sum('z_t')/dz.sum('z_t')"
   ]
  },
  {
   "cell_type": "code",
   "execution_count": 129,
   "id": "88afb0c3-37dd-444a-993d-7a3e241e164d",
   "metadata": {},
   "outputs": [],
   "source": [
    "wgts = tarea\n",
    "wgts = xr.where( (wgts.TLONG > 300) & (wgts.TLONG < 325), wgts, 0)\n",
    "wgts = xr.where( (wgts.TLAT > 50) & (wgts.TLAT < 65), wgts, 0)"
   ]
  },
  {
   "cell_type": "code",
   "execution_count": 130,
   "id": "3c3bdd3c-9b36-4b58-be1c-d03ffdeea482",
   "metadata": {},
   "outputs": [],
   "source": [
    "rho_w = rho.weighted(wgts.fillna(0))\n",
    "rhom = rho_w.mean((\"nlon\",\"nlat\"))"
   ]
  },
  {
   "cell_type": "code",
   "execution_count": 131,
   "id": "06ef16c2-990b-494d-9961-5b0913ab3463",
   "metadata": {},
   "outputs": [],
   "source": [
    "rhom = rhom.load()"
   ]
  },
  {
   "cell_type": "code",
   "execution_count": 133,
   "id": "1a321304-9999-4414-8a37-86b15f3ed6a7",
   "metadata": {},
   "outputs": [],
   "source": [
    "rhom = rhom.rename('RHO')"
   ]
  },
  {
   "cell_type": "code",
   "execution_count": 134,
   "id": "1512af37-b0ef-434e-ae83-53a0e2b97c97",
   "metadata": {},
   "outputs": [],
   "source": [
    "rhom.to_netcdf(\"/glade/scratch/islas/python/singleforcing/DATA_SORT/cesm1_picontrol/cesm1_picontrol_rho_top203_60to35W_50to65N.nc\")"
   ]
  },
  {
   "cell_type": "code",
   "execution_count": 135,
   "id": "742e817f-4c94-47a2-93c8-9bd9cd12bf27",
   "metadata": {},
   "outputs": [],
   "source": [
    "cluster.close()"
   ]
  },
  {
   "cell_type": "code",
   "execution_count": null,
   "id": "3a878e35-ae29-4e16-9495-4967aff079a2",
   "metadata": {},
   "outputs": [],
   "source": []
  }
 ],
 "metadata": {
  "kernelspec": {
   "display_name": "Python [conda env:miniconda3-ecpaperenv]",
   "language": "python",
   "name": "conda-env-miniconda3-ecpaperenv-py"
  },
  "language_info": {
   "codemirror_mode": {
    "name": "ipython",
    "version": 3
   },
   "file_extension": ".py",
   "mimetype": "text/x-python",
   "name": "python",
   "nbconvert_exporter": "python",
   "pygments_lexer": "ipython3",
   "version": "3.6.11"
  }
 },
 "nbformat": 4,
 "nbformat_minor": 5
}
